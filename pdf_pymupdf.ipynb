{
 "cells": [
  {
   "cell_type": "code",
   "execution_count": 1,
   "metadata": {},
   "outputs": [
    {
     "name": "stdout",
     "output_type": "stream",
     "text": [
      "{2, 3, 5, 7}\n",
      "PDF saved to C:/Users/sekhar/Downloads/test2.pdf\n"
     ]
    }
   ],
   "source": [
    "import fitz  # PyMuPDF\n",
    "\n",
    "def fill_pdf_fields(pdf_path, output_path, field_data):\n",
    "    pdf_document = fitz.open(pdf_path)\n",
    "    types = set()\n",
    "    \n",
    "    for page_num in range(len(pdf_document)):\n",
    "        page = pdf_document.load_page(page_num)\n",
    "        \n",
    "        # Iterate over the fillable fields\n",
    "        widgets = page.widgets()\n",
    "        if widgets:\n",
    "            for widget in widgets:\n",
    "                field_type = widget.field_type\n",
    "                field_name = widget.field_name\n",
    "                types.add(field_type)\n",
    "                \n",
    "                if field_type:  # Check if it's a fillable field\n",
    "                    if field_name in field_data:  # Check if the field name is in field_data\n",
    "                        field_value = field_data[field_name]  # Get the value from field_data\n",
    "                        \n",
    "                        if field_type != 2:  # Not a checkbox\n",
    "                            widget.field_value = field_value  # Update the field value\n",
    "                        else:\n",
    "                            # Checkbox handling\n",
    "                            if field_value.lower() in [\"yes\", \"true\", \"1\"]:\n",
    "                                widget.field_value = \"1\"  # Check the checkbox\n",
    "                            else:\n",
    "                                widget.field_value = \"0\"  # Uncheck the checkbox\n",
    "                        \n",
    "                        widget.update()  # Apply the update to the widget\n",
    "    \n",
    "    pdf_document.save(output_path)\n",
    "    pdf_document.close()\n",
    "    print(types)\n",
    "    print(f\"PDF saved to {output_path}\")\n",
    "\n",
    "# Example usage\n",
    "if __name__ == \"__main__\":\n",
    "    pdf_path = \"C:/Users/sekhar/Downloads/Fillable-Form_CIOMS-to-E2B.pdf\"\n",
    "    output_path = \"C:/Users/sekhar/Downloads/test2.pdf\"\n",
    "\n",
    "    field_data = {\n",
    "        \"SUSPECT ADVERSE REACTION REPORT\": \"Adverse Reaction Report by raja sekhar\",\n",
    "        \"1a COUNTRY\": 'INDIA',\n",
    "        \"7  13 DESCRIBE REACTIONS including relevant testslab data\": \"Patient experienced severe headache and nausea.\",\n",
    "        \"PatientDied\": \"yes\",\n",
    "        \"3_Sex\": \"Male\",\n",
    "        \"InpatientHospitalisation\": \"no\",\n",
    "        \"Persistence_Incapacity\": \"yes\",\n",
    "        \"LifeThreatening\": \"No\",\n",
    "        \"14_SuspectDrugs\": \"Drug A\",\n",
    "        \"15_DailyDoses\": \"2 times a day\",\n",
    "        \"16_RoutesOfAdmin\": \"Oral\",\n",
    "    }\n",
    "    \n",
    "    fill_pdf_fields(pdf_path, output_path, field_data)\n"
   ]
  },
  {
   "cell_type": "code",
   "execution_count": 6,
   "metadata": {},
   "outputs": [
    {
     "name": "stdout",
     "output_type": "stream",
     "text": [
      "<_io.BufferedWriter name='output.txt'>\n"
     ]
    }
   ],
   "source": [
    "import pymupdf\n",
    "doc = pymupdf.open('C:/Users/sekhar/Downloads/Fillable-Form_CIOMS-to-E2B.pdf') # open a document\n",
    "out = open('output.txt', 'wb')\n",
    "for page in doc:\n",
    "    text = page.get_text().encode('utf-8') # get plain text (is in UTF-8)\n",
    "    out.write(text) # write text of page\n",
    "    out.write(bytes((12,)))  # write page delimeter (from feed 0*0C)\n",
    "out.close()\n",
    "print(out)"
   ]
  },
  {
   "cell_type": "code",
   "execution_count": 8,
   "metadata": {},
   "outputs": [
    {
     "name": "stdout",
     "output_type": "stream",
     "text": [
      "No images found on page 0\n",
      "found 1 images on page 1\n",
      "No images found on page 2\n",
      "No images found on page 3\n",
      "No images found on page 4\n",
      "No images found on page 5\n"
     ]
    }
   ],
   "source": [
    "import pymupdf\n",
    "\n",
    "doc = pymupdf.open('C:/Users/sekhar/Downloads/Fillable-Form_CIOMS-to-E2B.pdf')\n",
    "\n",
    "for page_index in range(len(doc)):\n",
    "    page = doc[page_index]\n",
    "    image_list = page.get_images()\n",
    "\n",
    "    if image_list:\n",
    "        print(f'found {len(image_list)} images on page {page_index}')\n",
    "    else:\n",
    "        print('No images found on page', page_index)\n",
    "    \n",
    "    for image_index, img in enumerate(image_list, start=1): # enumerate the image list\n",
    "        xref = img[0] # get the XREF of the image\n",
    "        pix = pymupdf.Pixmap(doc, xref) # create a Pixmap\n",
    "\n",
    "        if pix.n - pix.alpha > 3: # CMYK: convert to RGB first\n",
    "            pix = pymupdf.Pixmap(pymupdf.csRGB, pix)\n",
    "\n",
    "        pix.save(\"page_%s-image_%s.png\" % (page_index, image_index)) # save the image as png\n",
    "        pix = None"
   ]
  },
  {
   "cell_type": "code",
   "execution_count": 9,
   "metadata": {},
   "outputs": [
    {
     "name": "stdout",
     "output_type": "stream",
     "text": [
      "0 found on page 1 of C:/Users/sekhar/Downloads/Fillable-Form_CIOMS-to-E2B.pdf \n"
     ]
    }
   ],
   "source": [
    "import pymupdf\n",
    "from pprint import pprint\n",
    "\n",
    "doc = pymupdf.open('C:/Users/sekhar/Downloads/Fillable-Form_CIOMS-to-E2B.pdf')\n",
    "page = doc[1]\n",
    "tabs = page.find_tables()\n",
    "print(f\"{len(tabs.tables)} found on {page} \")\n",
    "\n",
    "if tabs.tables:\n",
    "    pprint(tabs[0].extract())\n"
   ]
  },
  {
   "cell_type": "code",
   "execution_count": 10,
   "metadata": {},
   "outputs": [],
   "source": [
    "import pymupdf\n",
    "\n",
    "for page in doc:\n",
    "    for annot in page.annots():\n",
    "        print(f'Annotation on page: {page.number} with type: {annot.type} and rect: {annot.rect}')"
   ]
  },
  {
   "cell_type": "code",
   "execution_count": 11,
   "metadata": {},
   "outputs": [],
   "source": [
    "import pymupdf\n",
    "\n",
    "# Open the PDF document\n",
    "doc = pymupdf.open('C:/Users/sekhar/Downloads/Fillable-Form_CIOMS-to-E2B.pdf')\n",
    "\n",
    "# Iterate over each page of the document\n",
    "for page in doc:\n",
    "    # Find all instances of \"Jane Doe\" on the current page\n",
    "    instances = page.search_for(\"PATIENT DIED\")\n",
    "\n",
    "    # Redact each instance of \"Jane Doe\" on the current page\n",
    "    for inst in instances:\n",
    "        page.add_redact_annot(inst)\n",
    "\n",
    "    # Apply the redactions to the current page\n",
    "    page.apply_redactions()\n",
    "\n",
    "# Save the modified document\n",
    "doc.save('redacted_document.pdf')\n",
    "\n",
    "# Close the document\n",
    "doc.close()"
   ]
  },
  {
   "cell_type": "code",
   "execution_count": 12,
   "metadata": {},
   "outputs": [],
   "source": [
    "import pymupdf\n",
    "\n",
    "# Open the PDF document\n",
    "doc = pymupdf.open('C:/Users/sekhar/Downloads/Fillable-Form_CIOMS-to-E2B.pdf')\n",
    "\n",
    "# Get the first page\n",
    "page = doc[0]\n",
    "\n",
    "# Add an area to redact\n",
    "rect = [0,0,200,200]\n",
    "\n",
    "# Add a redacction annotation which will have a red fill color\n",
    "page.add_redact_annot(rect, fill=(1,0,0))\n",
    "\n",
    "# Apply the redactions to the current page, but ignore vector graphics\n",
    "page.apply_redactions(graphics=0)\n",
    "\n",
    "# Save the modified document\n",
    "doc.save('redactied_document.pdf')\n",
    "\n",
    "# Close the document\n",
    "doc.close()"
   ]
  },
  {
   "cell_type": "code",
   "execution_count": 14,
   "metadata": {},
   "outputs": [],
   "source": [
    "import pymupdf  # import the bindings\n",
    "# fname = sys.argv[1]  # get filename from command line\n",
    "doc = pymupdf.open('C:/Users/sekhar/Downloads/Fillable-Form_CIOMS-to-E2B.pdf')  # open document\n",
    "for page in doc:  # iterate through the pages\n",
    "    pix = page.get_pixmap()  # render page to an image\n",
    "    pix.save(\"page-%i.png\" % page.number)  # store image as a PNG"
   ]
  },
  {
   "cell_type": "code",
   "execution_count": 19,
   "metadata": {},
   "outputs": [
    {
     "name": "stdout",
     "output_type": "stream",
     "text": [
      "Rect(0.0, 0.0, 595.3200073242188, 841.9199829101562)\n"
     ]
    }
   ],
   "source": [
    "import pymupdf\n",
    "\n",
    "# Open the PDF document\n",
    "doc = pymupdf.open('C:/Users/sekhar/Downloads/Fillable-Form_CIOMS-to-E2B.pdf')\n",
    "\n",
    "# Get the first page\n",
    "page = doc[1]\n",
    "print(page.rect)"
   ]
  },
  {
   "cell_type": "code",
   "execution_count": 2,
   "metadata": {},
   "outputs": [
    {
     "name": "stderr",
     "output_type": "stream",
     "text": [
      "C:\\Users\\sekhar\\AppData\\Local\\Temp\\ipykernel_10532\\609354463.py:15: DeprecationWarning: tostring() is deprecated. Use tobytes() instead.\n",
      "  samples = bytearray(bild.tostring())    # get plain pixel data from numpy array\n"
     ]
    },
    {
     "ename": "TypeError",
     "evalue": "Pixmap.__init__() got an unexpected keyword argument 'alpha'",
     "output_type": "error",
     "traceback": [
      "\u001b[1;31m---------------------------------------------------------------------------\u001b[0m",
      "\u001b[1;31mTypeError\u001b[0m                                 Traceback (most recent call last)",
      "Cell \u001b[1;32mIn[2], line 16\u001b[0m\n\u001b[0;32m     13\u001b[0m         bild[i, j] \u001b[38;5;241m=\u001b[39m [(i\u001b[38;5;241m+\u001b[39mj)\u001b[38;5;241m%\u001b[39m\u001b[38;5;241m256\u001b[39m, i\u001b[38;5;241m%\u001b[39m\u001b[38;5;241m256\u001b[39m, j\u001b[38;5;241m%\u001b[39m\u001b[38;5;241m256\u001b[39m]\n\u001b[0;32m     15\u001b[0m samples \u001b[38;5;241m=\u001b[39m \u001b[38;5;28mbytearray\u001b[39m(bild\u001b[38;5;241m.\u001b[39mtostring())    \u001b[38;5;66;03m# get plain pixel data from numpy array\u001b[39;00m\n\u001b[1;32m---> 16\u001b[0m pix \u001b[38;5;241m=\u001b[39m \u001b[43mpymupdf\u001b[49m\u001b[38;5;241;43m.\u001b[39;49m\u001b[43mPixmap\u001b[49m\u001b[43m(\u001b[49m\u001b[43mpymupdf\u001b[49m\u001b[38;5;241;43m.\u001b[39;49m\u001b[43mcsRGB\u001b[49m\u001b[43m,\u001b[49m\u001b[43m \u001b[49m\u001b[43mwidth\u001b[49m\u001b[43m,\u001b[49m\u001b[43m \u001b[49m\u001b[43mheight\u001b[49m\u001b[43m,\u001b[49m\u001b[43m \u001b[49m\u001b[43msamples\u001b[49m\u001b[43m,\u001b[49m\u001b[43m \u001b[49m\u001b[43malpha\u001b[49m\u001b[38;5;241;43m=\u001b[39;49m\u001b[38;5;28;43;01mFalse\u001b[39;49;00m\u001b[43m)\u001b[49m\n\u001b[0;32m     17\u001b[0m pix\u001b[38;5;241m.\u001b[39msave(\u001b[38;5;124m\"\u001b[39m\u001b[38;5;124mtest.png\u001b[39m\u001b[38;5;124m\"\u001b[39m)\n",
      "\u001b[1;31mTypeError\u001b[0m: Pixmap.__init__() got an unexpected keyword argument 'alpha'"
     ]
    }
   ],
   "source": [
    "import numpy as np\n",
    "import pymupdf\n",
    "#==============================================================================\n",
    "# create a fun-colored width * height PNG with pymupdf and numpy\n",
    "#==============================================================================\n",
    "height = 150\n",
    "width  = 100\n",
    "bild = np.ndarray((height, width, 3), dtype=np.uint8)\n",
    "\n",
    "for i in range(height):\n",
    "    for j in range(width):\n",
    "        # one pixel (some fun coloring)\n",
    "        bild[i, j] = [(i+j)%256, i%256, j%256]\n",
    "\n",
    "samples = bytearray(bild.tostring())    # get plain pixel data from numpy array\n",
    "pix = pymupdf.Pixmap(pymupdf.csRGB, width, height, samples, alpha=False)\n",
    "pix.save(\"test.png\")"
   ]
  },
  {
   "cell_type": "code",
   "execution_count": 3,
   "metadata": {},
   "outputs": [],
   "source": [
    "import pymupdf\n",
    "\n",
    "HTML = \"\"\"\n",
    "<p style=\"font-family: sans-serif;color: blue\">Hello World!</p>\n",
    "\"\"\"\n",
    "\n",
    "MEDIABOX = pymupdf.paper_rect(\"letter\")  # output page format: Letter\n",
    "WHERE = MEDIABOX + (36, 36, -36, -36)  # leave borders of 0.5 inches\n",
    "\n",
    "story = pymupdf.Story(html=HTML)  # create story from HTML\n",
    "writer = pymupdf.DocumentWriter(\"output.pdf\")  # create the writer\n",
    "\n",
    "more = 1  # will indicate end of input once it is set to 0\n",
    "\n",
    "while more:  # loop outputting the story\n",
    "    device = writer.begin_page(MEDIABOX)  # make new page\n",
    "    more, _ = story.place(WHERE)  # layout into allowed rectangle\n",
    "    story.draw(device)  # write on page\n",
    "    writer.end_page()  # finish page\n",
    "\n",
    "writer.close()  # close output file"
   ]
  },
  {
   "cell_type": "code",
   "execution_count": 4,
   "metadata": {},
   "outputs": [],
   "source": [
    "import pymupdf\n",
    "\n",
    "CSS = \"\"\"\n",
    "body {\n",
    "    font-family: sans-serif;\n",
    "    color: blue;\n",
    "}\n",
    "\"\"\"\n",
    "\n",
    "HTML = \"\"\"\n",
    "<p>Hello World!</p>\n",
    "\"\"\"\n",
    "\n",
    "# the story would then be created like this:\n",
    "story = pymupdf.Story(html=HTML, user_css=CSS)"
   ]
  },
  {
   "cell_type": "code",
   "execution_count": 7,
   "metadata": {},
   "outputs": [
    {
     "ename": "RuntimeError",
     "evalue": "No OCR support: TESSDATA_PREFIX not set",
     "output_type": "error",
     "traceback": [
      "\u001b[1;31m---------------------------------------------------------------------------\u001b[0m",
      "\u001b[1;31mRuntimeError\u001b[0m                              Traceback (most recent call last)",
      "Cell \u001b[1;32mIn[7], line 7\u001b[0m\n\u001b[0;32m      3\u001b[0m doc \u001b[38;5;241m=\u001b[39m pymupdf\u001b[38;5;241m.\u001b[39mopen(\u001b[38;5;124m'\u001b[39m\u001b[38;5;124mC:/Users/sekhar/Downloads/Fillable-Form_CIOMS-to-E2B.pdf\u001b[39m\u001b[38;5;124m'\u001b[39m)\n\u001b[0;32m      5\u001b[0m page \u001b[38;5;241m=\u001b[39m doc[\u001b[38;5;241m1\u001b[39m]\n\u001b[1;32m----> 7\u001b[0m tp \u001b[38;5;241m=\u001b[39m \u001b[43mpage\u001b[49m\u001b[38;5;241;43m.\u001b[39;49m\u001b[43mget_textpage_ocr\u001b[49m\u001b[43m(\u001b[49m\u001b[43m)\u001b[49m\n\u001b[0;32m      9\u001b[0m \u001b[38;5;28mprint\u001b[39m(tp\u001b[38;5;241m.\u001b[39mextractText())\n",
      "File \u001b[1;32mc:\\Users\\sekhar\\anaconda3\\envs\\p_310\\lib\\site-packages\\pymupdf\\utils.py:591\u001b[0m, in \u001b[0;36mget_textpage_ocr\u001b[1;34m(page, flags, language, dpi, full, tessdata)\u001b[0m\n\u001b[0;32m    589\u001b[0m pymupdf\u001b[38;5;241m.\u001b[39mCheckParent(page)\n\u001b[0;32m    590\u001b[0m \u001b[38;5;28;01mif\u001b[39;00m \u001b[38;5;129;01mnot\u001b[39;00m TESSDATA_PREFIX \u001b[38;5;129;01mand\u001b[39;00m \u001b[38;5;129;01mnot\u001b[39;00m tessdata:\n\u001b[1;32m--> 591\u001b[0m     \u001b[38;5;28;01mraise\u001b[39;00m \u001b[38;5;167;01mRuntimeError\u001b[39;00m(\u001b[38;5;124m\"\u001b[39m\u001b[38;5;124mNo OCR support: TESSDATA_PREFIX not set\u001b[39m\u001b[38;5;124m\"\u001b[39m)\n\u001b[0;32m    593\u001b[0m \u001b[38;5;28;01mdef\u001b[39;00m \u001b[38;5;21mfull_ocr\u001b[39m(page, dpi, language, flags):\n\u001b[0;32m    594\u001b[0m     zoom \u001b[38;5;241m=\u001b[39m dpi \u001b[38;5;241m/\u001b[39m \u001b[38;5;241m72\u001b[39m\n",
      "\u001b[1;31mRuntimeError\u001b[0m: No OCR support: TESSDATA_PREFIX not set"
     ]
    }
   ],
   "source": [
    "import pymupdf\n",
    "\n",
    "doc = pymupdf.open('C:/Users/sekhar/Downloads/Fillable-Form_CIOMS-to-E2B.pdf')\n",
    "\n",
    "page = doc[1]\n",
    "\n",
    "tp = page.get_textpage_ocr()\n",
    "\n",
    "print(tp.extractText())\n"
   ]
  },
  {
   "cell_type": "code",
   "execution_count": null,
   "metadata": {},
   "outputs": [],
   "source": []
  },
  {
   "cell_type": "code",
   "execution_count": null,
   "metadata": {},
   "outputs": [],
   "source": []
  }
 ],
 "metadata": {
  "kernelspec": {
   "display_name": "p_310",
   "language": "python",
   "name": "python3"
  },
  "language_info": {
   "codemirror_mode": {
    "name": "ipython",
    "version": 3
   },
   "file_extension": ".py",
   "mimetype": "text/x-python",
   "name": "python",
   "nbconvert_exporter": "python",
   "pygments_lexer": "ipython3",
   "version": "3.10.14"
  }
 },
 "nbformat": 4,
 "nbformat_minor": 2
}
