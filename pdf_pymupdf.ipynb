{
 "cells": [
  {
   "cell_type": "code",
   "execution_count": 1,
   "metadata": {},
   "outputs": [
    {
     "name": "stdout",
     "output_type": "stream",
     "text": [
      "{2, 3, 5, 7}\n",
      "PDF saved to C:/Users/sekhar/Downloads/test2.pdf\n"
     ]
    }
   ],
   "source": [
    "import fitz  # PyMuPDF\n",
    "\n",
    "def fill_pdf_fields(pdf_path, output_path, field_data):\n",
    "    pdf_document = fitz.open(pdf_path)\n",
    "    types = set()\n",
    "    \n",
    "    for page_num in range(len(pdf_document)):\n",
    "        page = pdf_document.load_page(page_num)\n",
    "        \n",
    "        # Iterate over the fillable fields\n",
    "        widgets = page.widgets()\n",
    "        if widgets:\n",
    "            for widget in widgets:\n",
    "                field_type = widget.field_type\n",
    "                field_name = widget.field_name\n",
    "                types.add(field_type)\n",
    "                \n",
    "                if field_type:  # Check if it's a fillable field\n",
    "                    if field_name in field_data:  # Check if the field name is in field_data\n",
    "                        field_value = field_data[field_name]  # Get the value from field_data\n",
    "                        \n",
    "                        if field_type != 2:  # Not a checkbox\n",
    "                            widget.field_value = field_value  # Update the field value\n",
    "                        else:\n",
    "                            # Checkbox handling\n",
    "                            if field_value.lower() in [\"yes\", \"true\", \"1\"]:\n",
    "                                widget.field_value = \"1\"  # Check the checkbox\n",
    "                            else:\n",
    "                                widget.field_value = \"0\"  # Uncheck the checkbox\n",
    "                        \n",
    "                        widget.update()  # Apply the update to the widget\n",
    "    \n",
    "    pdf_document.save(output_path)\n",
    "    pdf_document.close()\n",
    "    print(types)\n",
    "    print(f\"PDF saved to {output_path}\")\n",
    "\n",
    "# Example usage\n",
    "if __name__ == \"__main__\":\n",
    "    pdf_path = \"C:/Users/sekhar/Downloads/Fillable-Form_CIOMS-to-E2B.pdf\"\n",
    "    output_path = \"C:/Users/sekhar/Downloads/test2.pdf\"\n",
    "\n",
    "    field_data = {\n",
    "        \"SUSPECT ADVERSE REACTION REPORT\": \"Adverse Reaction Report by raja sekhar\",\n",
    "        \"1a COUNTRY\": 'INDIA',\n",
    "        \"7  13 DESCRIBE REACTIONS including relevant testslab data\": \"Patient experienced severe headache and nausea.\",\n",
    "        \"PatientDied\": \"yes\",\n",
    "        \"3_Sex\": \"Male\",\n",
    "        \"InpatientHospitalisation\": \"no\",\n",
    "        \"Persistence_Incapacity\": \"yes\",\n",
    "        \"LifeThreatening\": \"No\",\n",
    "        \"14_SuspectDrugs\": \"Drug A\",\n",
    "        \"15_DailyDoses\": \"2 times a day\",\n",
    "        \"16_RoutesOfAdmin\": \"Oral\",\n",
    "    }\n",
    "    \n",
    "    fill_pdf_fields(pdf_path, output_path, field_data)\n"
   ]
  },
  {
   "cell_type": "code",
   "execution_count": 6,
   "metadata": {},
   "outputs": [
    {
     "name": "stdout",
     "output_type": "stream",
     "text": [
      "<_io.BufferedWriter name='output.txt'>\n"
     ]
    }
   ],
   "source": [
    "import pymupdf\n",
    "doc = pymupdf.open('C:/Users/sekhar/Downloads/Fillable-Form_CIOMS-to-E2B.pdf') # open a document\n",
    "out = open('output.txt', 'wb')\n",
    "for page in doc:\n",
    "    text = page.get_text().encode('utf-8') # get plain text (is in UTF-8)\n",
    "    out.write(text) # write text of page\n",
    "    out.write(bytes((12,)))  # write page delimeter (from feed 0*0C)\n",
    "out.close()\n",
    "print(out)"
   ]
  },
  {
   "cell_type": "code",
   "execution_count": 8,
   "metadata": {},
   "outputs": [
    {
     "name": "stdout",
     "output_type": "stream",
     "text": [
      "No images found on page 0\n",
      "found 1 images on page 1\n",
      "No images found on page 2\n",
      "No images found on page 3\n",
      "No images found on page 4\n",
      "No images found on page 5\n"
     ]
    }
   ],
   "source": [
    "import pymupdf\n",
    "\n",
    "doc = pymupdf.open('C:/Users/sekhar/Downloads/Fillable-Form_CIOMS-to-E2B.pdf')\n",
    "\n",
    "for page_index in range(len(doc)):\n",
    "    page = doc[page_index]\n",
    "    image_list = page.get_images()\n",
    "\n",
    "    if image_list:\n",
    "        print(f'found {len(image_list)} images on page {page_index}')\n",
    "    else:\n",
    "        print('No images found on page', page_index)\n",
    "    \n",
    "    for image_index, img in enumerate(image_list, start=1): # enumerate the image list\n",
    "        xref = img[0] # get the XREF of the image\n",
    "        pix = pymupdf.Pixmap(doc, xref) # create a Pixmap\n",
    "\n",
    "        if pix.n - pix.alpha > 3: # CMYK: convert to RGB first\n",
    "            pix = pymupdf.Pixmap(pymupdf.csRGB, pix)\n",
    "\n",
    "        pix.save(\"page_%s-image_%s.png\" % (page_index, image_index)) # save the image as png\n",
    "        pix = None"
   ]
  },
  {
   "cell_type": "code",
   "execution_count": 9,
   "metadata": {},
   "outputs": [
    {
     "name": "stdout",
     "output_type": "stream",
     "text": [
      "0 found on page 1 of C:/Users/sekhar/Downloads/Fillable-Form_CIOMS-to-E2B.pdf \n"
     ]
    }
   ],
   "source": [
    "import pymupdf\n",
    "from pprint import pprint\n",
    "\n",
    "doc = pymupdf.open('C:/Users/sekhar/Downloads/Fillable-Form_CIOMS-to-E2B.pdf')\n",
    "page = doc[1]\n",
    "tabs = page.find_tables()\n",
    "print(f\"{len(tabs.tables)} found on {page} \")\n",
    "\n",
    "if tabs.tables:\n",
    "    pprint(tabs[0].extract())\n"
   ]
  },
  {
   "cell_type": "code",
   "execution_count": 10,
   "metadata": {},
   "outputs": [],
   "source": [
    "import pymupdf\n",
    "\n",
    "for page in doc:\n",
    "    for annot in page.annots():\n",
    "        print(f'Annotation on page: {page.number} with type: {annot.type} and rect: {annot.rect}')"
   ]
  },
  {
   "cell_type": "code",
   "execution_count": 11,
   "metadata": {},
   "outputs": [],
   "source": [
    "import pymupdf\n",
    "\n",
    "# Open the PDF document\n",
    "doc = pymupdf.open('C:/Users/sekhar/Downloads/Fillable-Form_CIOMS-to-E2B.pdf')\n",
    "\n",
    "# Iterate over each page of the document\n",
    "for page in doc:\n",
    "    # Find all instances of \"Jane Doe\" on the current page\n",
    "    instances = page.search_for(\"PATIENT DIED\")\n",
    "\n",
    "    # Redact each instance of \"Jane Doe\" on the current page\n",
    "    for inst in instances:\n",
    "        page.add_redact_annot(inst)\n",
    "\n",
    "    # Apply the redactions to the current page\n",
    "    page.apply_redactions()\n",
    "\n",
    "# Save the modified document\n",
    "doc.save('redacted_document.pdf')\n",
    "\n",
    "# Close the document\n",
    "doc.close()"
   ]
  },
  {
   "cell_type": "code",
   "execution_count": 12,
   "metadata": {},
   "outputs": [],
   "source": [
    "import pymupdf\n",
    "\n",
    "# Open the PDF document\n",
    "doc = pymupdf.open('C:/Users/sekhar/Downloads/Fillable-Form_CIOMS-to-E2B.pdf')\n",
    "\n",
    "# Get the first page\n",
    "page = doc[0]\n",
    "\n",
    "# Add an area to redact\n",
    "rect = [0,0,200,200]\n",
    "\n",
    "# Add a redacction annotation which will have a red fill color\n",
    "page.add_redact_annot(rect, fill=(1,0,0))\n",
    "\n",
    "# Apply the redactions to the current page, but ignore vector graphics\n",
    "page.apply_redactions(graphics=0)\n",
    "\n",
    "# Save the modified document\n",
    "doc.save('redactied_document.pdf')\n",
    "\n",
    "# Close the document\n",
    "doc.close()"
   ]
  },
  {
   "cell_type": "code",
   "execution_count": 14,
   "metadata": {},
   "outputs": [],
   "source": [
    "import pymupdf  # import the bindings\n",
    "# fname = sys.argv[1]  # get filename from command line\n",
    "doc = pymupdf.open('C:/Users/sekhar/Downloads/Fillable-Form_CIOMS-to-E2B.pdf')  # open document\n",
    "for page in doc:  # iterate through the pages\n",
    "    pix = page.get_pixmap()  # render page to an image\n",
    "    pix.save(\"page-%i.png\" % page.number)  # store image as a PNG"
   ]
  },
  {
   "cell_type": "code",
   "execution_count": 12,
   "metadata": {},
   "outputs": [
    {
     "name": "stdout",
     "output_type": "stream",
     "text": [
      "Rect(0.0, 0.0, 595.3200073242188, 841.9199829101562)\n"
     ]
    }
   ],
   "source": [
    "import pymupdf\n",
    "\n",
    "# Open the PDF document\n",
    "doc = pymupdf.open(\"D:\\Sekhar\\Fillable-Form_CIOMS-to-E2B.pdf\")\n",
    "\n",
    "# Get the first page\n",
    "page = doc[1]\n",
    "print(page.rect)"
   ]
  },
  {
   "cell_type": "code",
   "execution_count": null,
   "metadata": {},
   "outputs": [],
   "source": []
  }
 ],
 "metadata": {
  "kernelspec": {
   "display_name": "p_310",
   "language": "python",
   "name": "python3"
  },
  "language_info": {
   "codemirror_mode": {
    "name": "ipython",
    "version": 3
   },
   "file_extension": ".py",
   "mimetype": "text/x-python",
   "name": "python",
   "nbconvert_exporter": "python",
   "pygments_lexer": "ipython3",
   "version": "3.10.14"
  }
 },
 "nbformat": 4,
 "nbformat_minor": 2
}
