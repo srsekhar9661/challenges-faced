{
 "cells": [
  {
   "cell_type": "code",
   "execution_count": 9,
   "metadata": {},
   "outputs": [
    {
     "name": "stdout",
     "output_type": "stream",
     "text": [
      "['__class__', '__delattr__', '__dict__', '__dir__', '__doc__', '__eq__', '__format__', '__ge__', '__getattribute__', '__gt__', '__hash__', '__init__', '__init_subclass__', '__le__', '__lt__', '__module__', '__ne__', '__new__', '__reduce__', '__reduce_ex__', '__repr__', '__setattr__', '__sizeof__', '__str__', '__subclasshook__', '__weakref__', '_addAnnot_FromString', '_addWidget', '_add_caret_annot', '_add_file_annot', '_add_freetext_annot', '_add_ink_annot', '_add_line_annot', '_add_multiline', '_add_redact_annot', '_add_square_or_circle', '_add_stamp_annot', '_add_text_annot', '_add_text_marker', '_annot_refs', '_apply_redactions', '_count_q_balance', '_erase', '_get_optional_content', '_get_resource_properties', '_get_textpage', '_insertFont', '_insert_image', '_load_annot', '_makePixmap', '_other_box', '_pdf_page', '_reset_annot_refs', '_set_opacity', '_set_pagebox', '_set_resource_property', '_show_pdf_page', 'add_caret_annot', 'add_circle_annot', 'add_file_annot', 'add_freetext_annot', 'add_highlight_annot', 'add_ink_annot', 'add_line_annot', 'add_polygon_annot', 'add_polyline_annot', 'add_rect_annot', 'add_redact_annot', 'add_squiggly_annot', 'add_stamp_annot', 'add_strikeout_annot', 'add_text_annot', 'add_underline_annot', 'add_widget', 'annot_names', 'annot_xrefs', 'annots', 'apply_redactions', 'artbox', 'bleedbox', 'bound', 'clean_contents', 'cluster_drawings', 'cropbox', 'cropbox_position', 'delete_annot', 'delete_image', 'delete_link', 'delete_widget', 'derotation_matrix', 'draw_bezier', 'draw_circle', 'draw_cont', 'draw_curve', 'draw_line', 'draw_oval', 'draw_polyline', 'draw_quad', 'draw_rect', 'draw_sector', 'draw_squiggle', 'draw_zigzag', 'extend_textpage', 'find_tables', 'first_annot', 'first_link', 'first_widget', 'get_bboxlog', 'get_cdrawings', 'get_contents', 'get_displaylist', 'get_drawings', 'get_fonts', 'get_image_bbox', 'get_image_info', 'get_image_rects', 'get_images', 'get_label', 'get_links', 'get_oc_items', 'get_pixmap', 'get_svg_image', 'get_text', 'get_text_blocks', 'get_text_selection', 'get_text_words', 'get_textbox', 'get_textpage', 'get_textpage_ocr', 'get_texttrace', 'get_xobjects', 'insert_font', 'insert_htmlbox', 'insert_image', 'insert_link', 'insert_text', 'insert_textbox', 'is_wrapped', 'language', 'last_point', 'links', 'load_annot', 'load_links', 'load_widget', 'mediabox', 'mediabox_size', 'new_shape', 'number', 'parent', 'read_contents', 'rect', 'refresh', 'remove_rotation', 'replace_image', 'rotation', 'rotation_matrix', 'run', 'search_for', 'set_artbox', 'set_bleedbox', 'set_contents', 'set_cropbox', 'set_language', 'set_mediabox', 'set_rotation', 'set_trimbox', 'show_pdf_page', 'this', 'thisown', 'transformation_matrix', 'trimbox', 'update_link', 'widgets', 'wrap_contents', 'write_text', 'xref']\n"
     ]
    }
   ],
   "source": [
    "import pymupdf\n",
    "\n",
    "\n",
    "pdf = pymupdf.open(r\"C:\\Users\\USER\\Downloads\\3-page-sample-case-report.pdf\")\n",
    "for i,page in enumerate(pdf):\n",
    "    print(dir(page))\n",
    "    with open('page_methods.txt', 'w') as f:\n",
    "        # f.write(dir(page))\n",
    "        for k in dir(page):\n",
    "            f.write(k)\n",
    "            f.write('\\n')\n",
    "    break\n"
   ]
  },
  {
   "cell_type": "code",
   "execution_count": 11,
   "metadata": {},
   "outputs": [
    {
     "name": "stdout",
     "output_type": "stream",
     "text": [
      "Help on method apply_redactions in module pymupdf.utils:\n",
      "\n",
      "apply_redactions(images: int = 2, graphics: int = 1, text: int = 0) -> bool method of pymupdf.Page instance\n",
      "    Apply the redaction annotations of the page.\n",
      "    \n",
      "    Args:\n",
      "        page: the PDF page.\n",
      "        images:\n",
      "              0 - ignore images\n",
      "              1 - remove all overlapping images\n",
      "              2 - blank out overlapping image parts\n",
      "              3 - remove image unless invisible\n",
      "        graphics:\n",
      "              0 - ignore graphics\n",
      "              1 - remove graphics if contained in rectangle\n",
      "              2 - remove all overlapping graphics\n",
      "        text:\n",
      "              0 - remove text\n",
      "              1 - ignore text\n",
      "\n",
      "None\n"
     ]
    }
   ],
   "source": [
    "import pymupdf\n",
    "\n",
    "\n",
    "pdf = pymupdf.open(r\"C:\\Users\\USER\\Downloads\\3-page-sample-case-report.pdf\")\n",
    "for i,page in enumerate(pdf):\n",
    "    print(help(page.apply_redactions))\n",
    "    \n",
    "    break\n"
   ]
  },
  {
   "cell_type": "code",
   "execution_count": 18,
   "metadata": {},
   "outputs": [
    {
     "name": "stdout",
     "output_type": "stream",
     "text": [
      "[Rect(179.90599060058594, 61.570030212402344, 240.6019744873047, 78.05802917480469), Rect(31.190000534057617, 89.92000579833984, 94.55000305175781, 106.40800476074219)]\n",
      "[Rect(149.23399353027344, 89.92000579833984, 181.9099884033203, 106.40800476074219)]\n",
      "[Rect(156.58998107910156, 118.2600326538086, 203.2699737548828, 134.74803161621094)]\n"
     ]
    }
   ],
   "source": [
    "import pymupdf  # PyMuPDF\n",
    "\n",
    "def redact_pdf(input_pdf_path, output_pdf_path, terms_to_redact):\n",
    "    # Open the PDF document\n",
    "    document = pymupdf.open(input_pdf_path)\n",
    "\n",
    "    # Iterate through each page\n",
    "    for page_num, page in enumerate(document):\n",
    "        # page = document.load_page(page_num)\n",
    "        text_instances = []\n",
    "\n",
    "        # Search for each term to redact\n",
    "        for term in terms_to_redact:\n",
    "            text_instances.extend(page.search_for(term))\n",
    "            print(page.search_for(term))\n",
    "\n",
    "        # Redact each instance of the term\n",
    "        for inst in text_instances:\n",
    "            page.add_redact_annot(inst, fill=(0, 0, 0))  # Add a black rectangle over the term\n",
    "            \n",
    "\n",
    "        # Apply the redactions\n",
    "        page.apply_redactions()\n",
    "\n",
    "    # Save the redacted PDF\n",
    "    document.save(output_pdf_path)\n",
    "    document.close()\n",
    "\n",
    "# Example usage\n",
    "input_pdf = \"example.pdf\"\n",
    "output_pdf = \"redacted_example.pdf\"\n",
    "terms_to_redact = [\"confidential\", \"secret\", \"sensitive\"]\n",
    "\n",
    "redact_pdf(input_pdf, output_pdf, terms_to_redact)\n"
   ]
  },
  {
   "cell_type": "code",
   "execution_count": 32,
   "metadata": {},
   "outputs": [
    {
     "name": "stdout",
     "output_type": "stream",
     "text": [
      "[(70.79901123046875, 535.0799560546875, 773.495849609375, 559.5557250976562, '1 \\n \\n', 0, 0), (70.80000305175781, 68.77501678466797, 655.970947265625, 105.87301635742188, 'Linking the CIOMS I form to the ICH E2B format \\n', 1, 0), (70.79998779296875, 115.80001831054688, 764.7129516601562, 362.280029296875, ' \\nThe intention of this document is to link fields in CIOMS I reporting form with data elements in the international transfer format ICH E2B (R2 \\nand R3).  \\n \\nFor most of the fields in CIOMS I there are corresponding data elements in ICH E2B. However, ICH E2B is a flexible electronic format with \\nseveral data elements (both as structured information and in free text) intended for data transfer between different databases. CIOMS I is a \\npure reporting form with limited amount of fields (less structured and mostly in free text).  \\nThis implies some challenges in the mapping of data between CIOMS I and ICH E2B and therefore the table with suggestions in this document \\nshould only work as an overview and a guideline.  \\nFor example, the free text field ‘DESCRIBE REACTION(S)’ in CIOMS I can be linked to several structured and free text data elements in ICH E2B. \\nSee page 4-5 in table below.  \\n \\n \\nFor more detailed descriptions, please click on the links for ICH E2B (R2 and R3) guidelines;  \\n \\nICH E2B (R2) Individual Case Safety Report (ICSR) Specification and Related Files \\nhttp://estri.ich.org/e2br22/index.htm \\n', 2, 0), (70.80000305175781, 377.1600036621094, 493.72467041015625, 403.55999755859375, 'ICH E2B (R3) Individual Case Safety Report (ICSR) Specification and Related Files \\nhttp://estri.ich.org/e2br3/index.htm\\n', 3, 0), (36.00189208984375, 781.679931640625, 561.8158569335938, 806.1557006835938, '2 \\n \\n', 0, 0), (70.80000305175781, 37.440032958984375, 73.29586029052734, 48.48003005981445, ' \\n', 0, 0), (70.79998779296875, 535.0790405273438, 773.496826171875, 559.5547485351562, '3 \\n \\n', 1, 0), (70.80000305175781, 73.20001220703125, 73.51289367675781, 85.20001220703125, ' \\n', 2, 0), (176.39999389648438, 100.20001220703125, 456.5758361816406, 119.90999603271484, 'CIOMS form \\nICH-E2B field \\n', 3, 0), (415.20001220703125, 113.6400146484375, 436.29583740234375, 124.68001556396484, '(R2) \\n', 4, 0), (604.0800170898438, 100.20001220703125, 665.6158447265625, 111.2400131225586, 'ICH-E2B field \\n', 5, 0), (624.239990234375, 113.6400146484375, 645.3358764648438, 124.68001556396484, '(R3) \\n', 6, 0), (111.0, 127.68002319335938, 538.77587890625, 152.1599884033203, 'I.  \\nREACTION INFORMATION \\n \\n \\n', 7, 0), (111.0, 151.7471923828125, 181.8997039794922, 193.0800018310547, '1.  \\nPatient initials  \\n(first, last) \\n', 8, 0), (323.6400146484375, 161.8800048828125, 436.4144287109375, 186.3556671142578, 'B.1.1  \\nPatient (name or initials) \\n', 9, 0), (536.281494140625, 161.8800048828125, 649.055908203125, 186.3556671142578, 'D.1  \\nPatient (name or initials) \\n', 10, 0), (111.0, 202.80001831054688, 149.97203063964844, 227.2756805419922, '1.a   \\nCountry \\n', 11, 0), (323.6400146484375, 196.08001708984375, 500.2476806640625, 236.61000061035156, 'A.1.2 \\nIdentification of the country where the \\nreaction/event occurred \\n', 12, 0), (536.280029296875, 196.08001708984375, 716.01171875, 233.87998962402344, 'E.i.9 \\nIdentification of the Country Where the \\nReaction / Event Occurred \\n', 13, 0), (111.0, 236.8800048828125, 194.1358642578125, 274.6800231933594, '2. \\nDate of birth  \\n(day/month/year) \\n', 14, 0), (323.6400146484375, 243.48001098632812, 383.0139465332031, 267.9556884765625, 'B.1.2.1 \\nDate of birth \\n', 15, 0), (536.281494140625, 243.48001098632812, 595.8983154296875, 267.9556884765625, 'D.2.1 \\nDate of Birth \\n', 16, 0), (111.0, 277.55999755859375, 143.97586059570312, 315.4800109863281, '2.a  \\nAge  \\n(years) \\n', 17, 0), (323.6400146484375, 284.2799987792969, 497.4987487792969, 308.75567626953125, 'B.1.2.2 \\nAge at time of onset of reaction/event \\n', 18, 0), (536.2814331054688, 284.2799987792969, 720.2196655273438, 308.75567626953125, 'D.2.2 \\nAge at Time of Onset of Reaction / Event \\n', 19, 0), (111.0, 314.82720947265625, 131.49586486816406, 342.84002685546875, '2.  \\nSex \\n', 20, 0), (323.6400146484375, 318.3600158691406, 348.81585693359375, 342.84002685546875, 'B.1.5 \\nSex \\n', 21, 0), (536.280029296875, 318.3600158691406, 554.015869140625, 342.84002685546875, 'D.5 \\nSex \\n', 22, 0), (111.0, 345.7200012207031, 194.1358642578125, 383.6400146484375, '4-6. \\nReaction onset \\n(day/month/year) \\n', 23, 0), (323.6400146484375, 352.44000244140625, 462.9324951171875, 376.91571044921875, 'B.2.i.4 \\nDate of start of reaction/event \\n', 24, 0), (536.2814331054688, 352.44000244140625, 683.4896240234375, 376.91571044921875, 'E.i.4  \\nDate of Start of Reaction / Event \\n', 25, 0), (111.0, 433.5600280761719, 204.57586669921875, 471.47137451171875, '7. \\nDescribe reaction(s) \\n \\n', 26, 0), (323.6400146484375, 386.5199890136719, 517.4037475585938, 518.4000244140625, 'B.2.i.0 \\nReaction/event as reported by the primary \\nsource \\n \\nB.2.i.8 \\nOutcome of reaction/event at the time of \\nlast observation \\n \\nB.4.k.16 \\nAction(s) taken with drug \\n', 27, 0), (536.280029296875, 386.5199890136719, 733.1348266601562, 518.4000244140625, 'E.i.1  \\nReaction / Event as Reported by the \\nPrimary Source \\n \\nE.i.7 \\nOutcome of Reaction / Event at the Time of \\nLast Observation \\n \\nG.k.8  \\nAction(s) Taken with Drug \\n', 28, 0), (70.80000305175781, 37.440032958984375, 73.29586029052734, 48.48003005981445, ' \\n', 0, 0), (70.79998779296875, 535.0790405273438, 773.496826171875, 559.5547485351562, '4 \\n \\n', 1, 0), (176.39999389648438, 73.44003295898438, 456.5758361816406, 93.03002166748047, 'CIOMS form \\nICH-E2B field \\n', 2, 0), (415.20001220703125, 86.760009765625, 436.29583740234375, 97.80001068115234, '(R2) \\n', 3, 0), (604.0800170898438, 73.44003295898438, 665.6158447265625, 84.48003387451172, 'ICH-E2B field \\n', 4, 0), (624.239990234375, 86.760009765625, 645.3358764648438, 97.80001068115234, '(R3) \\n', 5, 0), (323.6400146484375, 100.80001831054688, 501.3076171875, 152.0399932861328, 'B.5.1 \\nCase narrative including clinical course, \\ntherapeutic measures, outcome and \\nadditional relevant information \\n', 6, 0), (536.280029296875, 100.80001831054688, 717.921875, 152.0399932861328, 'H.1 \\nCase Narrative Including Clinical Course, \\nTherapeutic Measures, Outcome and \\nAdditional Relevant Information \\n', 7, 0), (111.0, 161.6400146484375, 258.3406677246094, 186.1156768798828, '13. \\n(including relevant test lab data) \\n', 8, 0), (323.6400146484375, 154.92001342773438, 517.7460327148438, 192.8400115966797, 'B.3.2 \\nResults of tests and procedures relevant to \\nthe investigation  \\n', 9, 0), (536.280029296875, 161.6400146484375, 699.4520263671875, 186.1156768798828, 'F.r.3.4  \\nResult Unstructured Data (free text) \\n', 10, 0), (111.0, 195.72000122070312, 301.7758483886719, 220.1999969482422, '8-12.  \\nCheck all appropriate to adverse reaction \\n', 11, 0), (323.6400146484375, 195.72000122070312, 637.77197265625, 220.1999969482422, 'A.1.5.1 \\nSerious - at case level \\n- \\n', 12, 0), (111.0, 223.44000244140625, 167.61585998535156, 234.47999572753906, 'Patient died \\n', 13, 0), (323.6400146484375, 252.24002075195312, 475.8934631347656, 276.7156982421875, 'A.1.5.2 \\nSeriousness criteria - at case level \\n', 14, 0), (536.2814331054688, 252.24002075195312, 691.6591796875, 276.7156982421875, 'E.i.3.2 \\nSeriousness Criteria at Event Level \\n', 15, 0), (111.0, 237.60000610351562, 307.9985656738281, 333.2400207519531, 'Involved or prolonged inpatient \\nhospitalization \\nInvolved persistence or significant disability \\nor incapacity \\nLife threatening \\nII. \\nSUSPECT DRUG(S) INFORMATION \\n', 16, 0), (323.6400146484375, 308.760009765625, 454.6558532714844, 333.2400207519531, 'B.4.k.1  \\nCharacterization of drug role \\n', 17, 0), (536.280029296875, 308.760009765625, 670.2958374023438, 333.2400207519531, 'G.k.1 \\nCharacterisation of Drug Role \\n', 18, 0), (111.0, 349.5600280761719, 215.85874938964844, 387.4800109863281, '14. \\nSuspect drug(s)  \\n(include generic name) \\n', 19, 0), (323.6400146484375, 336.1200256347656, 409.5320129394531, 400.9200134277344, 'B.4.k.2  \\nDrug identification \\n \\nB.4.k.3 \\nBatch/lot number \\n', 20, 0), (536.280029296875, 336.1200256347656, 626.73583984375, 400.9200134277344, 'G.k.2  \\nDrug Identification \\n \\nG.k.4.r.7  \\nBatch / Lot Number \\n', 21, 0), (111.0, 403.8000183105469, 171.9358673095703, 428.1600341796875, '15. \\nDaily dose(s) \\n', 22, 0), (323.6400146484375, 403.8000183105469, 379.05584716796875, 428.1600341796875, 'B.4.k.6  \\nDosage text \\n', 23, 0), (536.280029296875, 403.8000183105469, 593.3758544921875, 428.1600341796875, 'G.k.4.r.8  \\nDosage Text \\n', 24, 0), (111.0, 431.1600036621094, 233.97586059570312, 455.52001953125, '16. \\nRoute(s) of administration \\n', 25, 0), (323.6400146484375, 431.1600036621094, 432.5758361816406, 455.52001953125, 'B.4.k.8  \\nRoute of administration \\n', 26, 0), (536.280029296875, 431.1600036621094, 646.2958374023438, 455.52001953125, 'G.k.4.r.10  \\nRoute of Administration \\n', 27, 0), (111.0, 458.5199890136719, 204.69586181640625, 482.8800048828125, '17. \\nIndication(s) for use \\n', 28, 0), (323.6400146484375, 458.5199890136719, 454.5358581542969, 482.8800048828125, 'B.4.k.11  \\nIndication for use in the case \\n', 29, 0), (536.280029296875, 458.5199890136719, 652.2958374023438, 482.8800048828125, 'G.k.7 \\nIndication for Use in Case \\n', 30, 0), (111.0, 485.760009765625, 178.41586303710938, 510.2400207519531, '18. \\nTherapy dates \\n', 31, 0), (323.6400146484375, 485.760009765625, 416.9758605957031, 510.2400207519531, 'B.4.k.12  \\nDate of start of drug \\n', 32, 0), (536.280029296875, 485.760009765625, 675.2158203125, 510.2400207519531, 'G.k.4.r.4  \\nDate and Time of Start of Drug \\n', 33, 0), (70.80000305175781, 37.440032958984375, 73.29586029052734, 48.48003005981445, ' \\n', 0, 0), (70.79998779296875, 535.0790405273438, 773.496826171875, 559.5547485351562, '5 \\n \\n', 1, 0), (176.39999389648438, 73.44003295898438, 456.5758361816406, 93.03002166748047, 'CIOMS form \\nICH-E2B field \\n', 2, 0), (415.20001220703125, 86.760009765625, 436.29583740234375, 97.80001068115234, '(R2) \\n', 3, 0), (604.0800170898438, 73.44003295898438, 665.6158447265625, 84.48003387451172, 'ICH-E2B field \\n', 4, 0), (624.239990234375, 86.760009765625, 645.3358764648438, 97.80001068115234, '(R3) \\n', 5, 0), (111.0, 100.80001831054688, 445.29583740234375, 125.15999603271484, '(from/to) \\nB.4.k.14  \\nDate of last administration \\n', 6, 0), (536.280029296875, 100.80001831054688, 705.0958251953125, 125.15999603271484, 'G.k.4.r.5  \\nDate and Time of Last Administration \\n', 7, 0), (111.0, 128.16000366210938, 192.8158721923828, 152.52000427246094, '19. \\nTherapy duration \\n', 8, 0), (323.6400146484375, 128.16000366210938, 468.3358459472656, 152.52000427246094, 'B.4.k.15  \\nDuration of drug administration \\n', 9, 0), (536.280029296875, 128.16000366210938, 683.015869140625, 152.52000427246094, 'G.k.4.r.6  \\nDuration of Drug Administration \\n', 10, 0), (111.0, 155.39999389648438, 293.26019287109375, 193.3199920654297, '20. \\nDid reaction abate after stopping drug? \\nYes/No/Na \\n', 11, 0), (323.6400146484375, 162.1199951171875, 439.0419921875, 186.5956573486328, 'B.4.k.16  \\nAction(s) taken with drug \\n', 12, 0), (536.2814331054688, 162.1199951171875, 654.3329467773438, 186.5956573486328, 'G.k.8  \\nAction(s) Taken with Drug \\n', 13, 0), (111.0, 202.92001342773438, 311.97296142578125, 240.8400115966797, '21. \\nDid reaction reappear after reintroduction? \\nYes/No/Na \\n', 14, 0), (323.6400146484375, 196.20001220703125, 503.3720397949219, 234.1156768798828, ' \\nB.4.k.17.1  \\nDid reaction recur on readministration? \\n', 15, 0), (424.55999755859375, 236.52001953125, 427.05584716796875, 247.5600128173828, ' \\n', 16, 0), (536.280029296875, 209.6400146484375, 725.7272338867188, 234.1156768798828, 'G.k.9.i.4  \\nDid Reaction Recur on Re-administration? \\n', 17, 0), (111.0, 250.44000244140625, 292.17822265625, 288.3600158691406, 'III. \\nCONCOMITANT DRUG(S) AND HISTORY \\n \\n', 18, 0), (323.6400146484375, 257.1600036621094, 454.6524963378906, 281.6400146484375, 'B.4.k.1  \\nCharacterization of drug role \\n', 19, 0), (536.280029296875, 257.1600036621094, 670.29541015625, 281.6400146484375, 'G.k.1 \\nCharacterisation of Drug Role \\n', 20, 0), (111.0, 311.3999938964844, 281.8558349609375, 362.6400146484375, '22. \\nConcomitant drug(s) and dates of \\nadministration \\n(exclude those used to treat reaction) \\n', 21, 0), (323.6400146484375, 291.2400207519531, 445.29583740234375, 382.8000183105469, 'B.4.k.2  \\nDrug identification \\n \\nB.4.k.12  \\nDate of start of drug \\nB.4.k.14  \\nDate of last administration \\n', 22, 0), (536.280029296875, 291.2400207519531, 705.0958251953125, 382.8000183105469, 'G.k.2  \\nDrug Identification \\n \\nG.k.4.r.4  \\nDate and Time of Start of Drug \\nG.k.4.r.5  \\nDate and Time of Last Administration \\n', 23, 0), (111.0, 385.6800231933594, 301.1206359863281, 437.0400390625, '23. \\nOther relevant history  \\n(e.g. diagnostics, allergics, pregnancy with \\nlast month of period, etc.) \\n', 24, 0), (323.6400146484375, 392.3999938964844, 509.3777770996094, 430.3114013671875, 'B.1.7  \\nRelevant medical history and concurrent \\nconditions (not including reaction/event) \\n', 25, 0), (536.280029296875, 385.6800231933594, 707.1139526367188, 437.0400390625, 'D.7.2  \\nText for Relevant Medical History and \\nConcurrent Conditions (not including \\nreaction / event) \\n', 26, 0), (111.0, 439.9200134277344, 262.900146484375, 477.84002685546875, 'IV. \\nMANUFACTURER INFORMATION \\n \\n', 27, 0), (424.55999755859375, 453.3600158691406, 636.0958251953125, 464.4000244140625, ' \\n \\n', 28, 0), (111.0, 487.44000244140625, 278.013916015625, 511.9200134277344, '24.a \\nName and address of manufacturer  \\n', 29, 0), (323.6400146484375, 480.7200012207031, 523.9616088867188, 518.6400146484375, 'A.1.11.1  \\nSource(s) of the case identifier (e.g. name of \\nthe company, name of regulatory agency) \\n', 30, 0), (536.280029296875, 487.44000244140625, 676.5111694335938, 511.91571044921875, 'C.1.9.1.r.1  \\nSource(s) of the Case Identifier \\n', 31, 0), (70.80000305175781, 37.440032958984375, 73.29586029052734, 48.48003005981445, ' \\n', 0, 0), (70.79998779296875, 535.0790405273438, 773.496826171875, 559.5547485351562, '6 \\n \\n', 1, 0), (176.39999389648438, 73.44003295898438, 456.5758361816406, 93.03002166748047, 'CIOMS form \\nICH-E2B field \\n', 2, 0), (415.20001220703125, 86.760009765625, 436.29583740234375, 97.80001068115234, '(R2) \\n', 3, 0), (604.0800170898438, 73.44003295898438, 665.6158447265625, 84.48003387451172, 'ICH-E2B field \\n', 4, 0), (624.239990234375, 86.760009765625, 645.3358764648438, 97.80001068115234, '(R3) \\n', 5, 0), (111.0, 107.39999389648438, 186.8125, 131.87998962402344, '24.b \\nMFR control no. \\n', 6, 0), (323.6400146484375, 100.80001831054688, 473.96148681640625, 138.59999084472656, 'A.1.11  \\nOther case identifiers in previous \\ntransmissions \\n', 7, 0), (536.280029296875, 114.1199951171875, 661.2977905273438, 125.15999603271484, 'C.1.9 Other Case Identifiers \\n', 8, 0), (111.0, 148.20001220703125, 255.58065795898438, 172.6800079345703, '24.c \\nDate received by manufacturer \\n', 9, 0), (323.6400146484375, 141.48001098632812, 478.3995056152344, 179.40000915527344, 'A.1.7b \\nDate of receipt of the most recent \\ninformation for this report \\n', 10, 0), (536.280029296875, 141.48001098632812, 722.7131958007812, 179.40000915527344, 'C.1.5  \\nDate of Most Recent Information for This \\nReport \\n', 11, 0), (111.0, 189.0, 199.89491271972656, 253.8000030517578, '24.d \\nReport source \\nStudy \\nLiterature \\nHealth professional \\n', 12, 0), (323.6400146484375, 182.27999877929688, 427.1739501953125, 260.52001953125, 'A.1.4  \\nType of report \\nA.2.2  \\nLiterature reference(s) \\nA.2.1.4  \\nQualification \\n', 13, 0), (536.280029296875, 182.27999877929688, 641.8563232421875, 260.52001953125, 'C.1.3  \\nType of Report \\nC.4.r.1  \\nLiterature Reference(s) \\nC.2.r.4  \\nQualification \\n', 14, 0), (111.0, 263.3999938964844, 167.73538208007812, 314.760009765625, '25.a \\nReport type \\nInitial \\nFollow-up \\n', 15, 0), (323.6400146484375, 276.8399963378906, 705.0284423828125, 301.315673828125, 'Transferring of correct dates (from 24.c) is based on the CIOMS Report type, i.e. if the \\nreport is initial or a follow-up. \\n', 16, 0), (111.0, 317.6400146484375, 637.77587890625, 328.6800231933594, 'Date of this report \\n- \\n- \\n', 17, 0), (70.80000305175781, 333.9300231933594, 75.76459503173828, 355.8900146484375, ' \\n', 18, 0), (70.80000305175781, 374.731689453125, 75.76459503173828, 396.6916809082031, ' \\n', 19, 0)]\n"
     ]
    }
   ],
   "source": [
    "import pymupdf\n",
    "\n",
    "l = []\n",
    "doc = pymupdf.open(r\"D:\\Sekhar\\Fillable-Form_CIOMS-to-E2B.pdf\")\n",
    "for page_num, page in enumerate(doc):\n",
    "    l.extend(page.get_text('blocks', sort=False))\n",
    "\n",
    "print(l)"
   ]
  },
  {
   "cell_type": "code",
   "execution_count": 34,
   "metadata": {},
   "outputs": [],
   "source": [
    "import pymupdf\n",
    "\n",
    "doc = pymupdf.open(r\"D:\\Sekhar\\Fillable-Form_CIOMS-to-E2B.pdf\")\n",
    "b = []\n",
    "for page_num, page in enumerate(doc):\n",
    "    b.extend(page.get_text('blocks', sort=False))\n",
    "\n",
    "with open('extracted_text.txt', 'w') as fp:\n",
    "    for i in b:\n",
    "        fp.write(str(i[4]) if type(i[4]) == int else i[4])\n",
    "        fp.write('\\n\\n\\n')\n"
   ]
  },
  {
   "cell_type": "code",
   "execution_count": null,
   "metadata": {},
   "outputs": [],
   "source": [
    "import pymupdf\n",
    "\n",
    "doc = pymupdf.open(r\"D:\\Sekhar\\Fillable-Form_CIOMS-to-E2B.pdf\")\n",
    "b = []\n",
    "for page_num, page in enumerate(doc):\n",
    "    b.extend(page.get_text('blocks', sort=False))\n",
    "\n",
    "with open('extracted_text.txt', 'w') as fp:\n",
    "    for i in b:\n",
    "        fp.write(str(i[4]) if type(i[4]) == int else i[4])\n",
    "        fp.write('\\n\\n\\n')\n",
    " "
   ]
  }
 ],
 "metadata": {
  "kernelspec": {
   "display_name": "v_310",
   "language": "python",
   "name": "python3"
  },
  "language_info": {
   "codemirror_mode": {
    "name": "ipython",
    "version": 3
   },
   "file_extension": ".py",
   "mimetype": "text/x-python",
   "name": "python",
   "nbconvert_exporter": "python",
   "pygments_lexer": "ipython3",
   "version": "3.10.14"
  }
 },
 "nbformat": 4,
 "nbformat_minor": 2
}
