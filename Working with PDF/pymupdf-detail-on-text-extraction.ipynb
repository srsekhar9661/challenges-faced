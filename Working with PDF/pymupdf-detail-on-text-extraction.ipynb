{
 "cells": [
  {
   "cell_type": "markdown",
   "metadata": {},
   "source": [
    "# Details on Text Extraction\n",
    "\n",
    "    This chapter provides background on the text extraction methods of PyMuPDF.\n",
    "\n",
    "    Information of interest are\n",
    "\n",
    "    what do they provide?\n",
    "\n",
    "    what do they imply (processing time / data sizes)?"
   ]
  },
  {
   "cell_type": "markdown",
   "metadata": {},
   "source": [
    "# General structure of a TextPage\n",
    "    TextPage is one of (Py-) MuPDF’s classes. It is normally created (and destroyed again) behind the curtain, when Page text extraction methods are used, but it is also available directly and can be used as a persistent object. Other than its name suggests, images may optionally also be part of a text page:\n",
    "\n",
    "    <page>\n",
    "        <text block>\n",
    "            <line>\n",
    "                <span>\n",
    "                    <char>\n",
    "        <image block>\n",
    "            <img>\n",
    "    A text page consists of blocks (= roughly paragraphs).\n",
    "\n",
    "    A block consists of either lines and their characters, or an image.\n",
    "\n",
    "    A line consists of spans.\n",
    "\n",
    "    A span consists of adjacent characters with identical font properties: name, size, flags and color."
   ]
  },
  {
   "cell_type": "markdown",
   "metadata": {},
   "source": [
    "# Plain Text\n",
    "    Function TextPage.extractText() (or Page.get_text(“text”)) extracts a page’s plain text in original order as specified by the creator of the document.\n",
    "\n",
    "    An example output:\n",
    "\n",
    "        print(page.get_text(\"text\"))\n",
    "    Some text on first page.\n",
    "    Note\n",
    "\n",
    "    The output may not equal an accustomed “natural” reading order. However, you can request a reordering following the scheme “top-left to bottom-right” by executing page.get_text(\"text\", sort=True)."
   ]
  },
  {
   "cell_type": "markdown",
   "metadata": {},
   "source": [
    "# BLOCKS\n",
    "    Function TextPage.extractBLOCKS() (or Page.get_text(“blocks”)) extracts a page’s text blocks as a list of items like:\n",
    "\n",
    "        (x0, y0, x1, y1, \"lines in block\", block_no, block_type)\n",
    "    Where the first 4 items are the float coordinates of the block’s bbox. The lines within each block are concatenated by a new-line character.\n",
    "\n",
    "    This is a high-speed method, which by default also extracts image meta information: Each image appears as a block with one text line, which contains meta information. The image itself is not shown.\n",
    "\n",
    "    As with simple text output above, the sort argument can be used as well to obtain a reading order.\n",
    "\n",
    "    Example output:\n",
    "\n",
    "        print(page.get_text(\"blocks\", sort=False))\n",
    "        [(50.0, 88.17500305175781, 166.1709747314453, 103.28900146484375,\n",
    "    'Some text on first page.', 0, 0)]"
   ]
  },
  {
   "cell_type": "markdown",
   "metadata": {},
   "source": [
    "# WORDS\n",
    "    Function TextPage.extractWORDS() (or Page.get_text(“words”)) extracts a page’s text words as a list of items like:\n",
    "\n",
    "    (x0, y0, x1, y1, \"word\", block_no, line_no, word_no)\n",
    "    Where the first 4 items are the float coordinates of the words’s bbox. The last three integers provide some more information on the word’s whereabouts.\n",
    "\n",
    "    This is a high-speed method. As with the previous methods, argument sort=True will reorder the words.\n",
    "\n",
    "    Example output:\n",
    "\n",
    "        for word in page.get_text(\"words\", sort=False):\n",
    "                print(word)\n",
    "        (50.0, 88.17500305175781, 78.73200225830078, 103.28900146484375,\n",
    "        'Some', 0, 0, 0)\n",
    "        (81.79000091552734, 88.17500305175781, 99.5219955444336, 103.28900146484375,\n",
    "        'text', 0, 0, 1)\n",
    "        (102.57999420166016, 88.17500305175781, 114.8119888305664, 103.28900146484375,\n",
    "        'on', 0, 0, 2)\n",
    "        (117.86998748779297, 88.17500305175781, 135.5909881591797, 103.28900146484375,\n",
    "        'first', 0, 0, 3)\n",
    "        (138.64898681640625, 88.17500305175781, 166.1709747314453, 103.28900146484375,\n",
    "        'page.', 0, 0, 4)"
   ]
  },
  {
   "cell_type": "markdown",
   "metadata": {},
   "source": [
    "# DICT (or JSON)\n",
    "    TextPage.extractDICT() (or Page.get_text(“dict”, sort=False)) output fully reflects the structure of a TextPage and provides image content and position detail (bbox – boundary boxes in pixel units) for every block, line and span. Images are stored as bytes for DICT output and base64 encoded strings for JSON output.\n",
    "\n",
    "    For a visualization of the dictionary structure have a look at Structure of Dictionary Outputs.\n",
    "\n",
    "    Here is how this looks like:\n",
    "\n",
    "        {\n",
    "            \"width\": 300.0,\n",
    "            \"height\": 350.0,\n",
    "            \"blocks\": [{\n",
    "                \"type\": 0,\n",
    "                \"bbox\": (50.0, 88.17500305175781, 166.1709747314453, 103.28900146484375),\n",
    "                \"lines\": ({\n",
    "                    \"wmode\": 0,\n",
    "                    \"dir\": (1.0, 0.0),\n",
    "                    \"bbox\": (50.0, 88.17500305175781, 166.1709747314453, 103.28900146484375),\n",
    "                    \"spans\": ({\n",
    "                        \"size\": 11.0,\n",
    "                        \"flags\": 0,\n",
    "                        \"font\": \"Helvetica\",\n",
    "                        \"color\": 0,\n",
    "                        \"origin\": (50.0, 100.0),\n",
    "                        \"text\": \"Some text on first page.\",\n",
    "                        \"bbox\": (50.0, 88.17500305175781, 166.1709747314453, 103.28900146484375)\n",
    "                    })\n",
    "                }]\n",
    "            }]\n",
    "        }"
   ]
  },
  {
   "cell_type": "markdown",
   "metadata": {},
   "source": []
  }
 ],
 "metadata": {
  "kernelspec": {
   "display_name": "v_310",
   "language": "python",
   "name": "python3"
  },
  "language_info": {
   "codemirror_mode": {
    "name": "ipython",
    "version": 3
   },
   "file_extension": ".py",
   "mimetype": "text/x-python",
   "name": "python",
   "nbconvert_exporter": "python",
   "pygments_lexer": "ipython3",
   "version": "3.10.14"
  }
 },
 "nbformat": 4,
 "nbformat_minor": 2
}
