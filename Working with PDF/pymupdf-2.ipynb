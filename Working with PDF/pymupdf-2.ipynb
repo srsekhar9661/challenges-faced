{
 "cells": [
  {
   "cell_type": "markdown",
   "metadata": {},
   "source": [
    "# TEXT"
   ]
  },
  {
   "cell_type": "markdown",
   "metadata": {},
   "source": [
    "## How to Extract all Document Text"
   ]
  },
  {
   "cell_type": "code",
   "execution_count": 5,
   "metadata": {},
   "outputs": [
    {
     "name": "stdout",
     "output_type": "stream",
     "text": [
      "{'format': 'PDF 1.3', 'title': '', 'author': '', 'subject': '', 'keywords': '', 'creator': '', 'producer': 'PyFPDF 1.7.2 http://pyfpdf.googlecode.com/', 'creationDate': 'D:20240612210545', 'modDate': '', 'trapped': '', 'encryption': None}\n",
      "PDF 1.3\n"
     ]
    }
   ],
   "source": [
    "import pymupdf\n",
    "\n",
    "doc = pymupdf.open('example.pdf')\n",
    "\n",
    "print(doc.metadata)\n",
    "print(doc.metadata.get('format'))"
   ]
  },
  {
   "cell_type": "markdown",
   "metadata": {},
   "source": [
    "### How to extrct text as Markdown"
   ]
  },
  {
   "cell_type": "code",
   "execution_count": 8,
   "metadata": {},
   "outputs": [
    {
     "name": "stdout",
     "output_type": "stream",
     "text": [
      "The following information is confidential.\n",
      "\n",
      "Confidential: This is a secret.\n",
      "\n",
      "Please ensure that this sensitive information is redacted.\n",
      "\n",
      "\n",
      "-----\n",
      "\n",
      "\n"
     ]
    }
   ],
   "source": [
    "import pymupdf4llm\n",
    "\n",
    "md_text = pymupdf4llm.to_markdown('example.pdf')\n",
    "\n",
    "print(md_text)"
   ]
  },
  {
   "cell_type": "code",
   "execution_count": 12,
   "metadata": {},
   "outputs": [
    {
     "name": "stdout",
     "output_type": "stream",
     "text": [
      "This is a sample PDF document for redaction.\n",
      "The following information is confidential.\n",
      "Confidential: This is a secret.\n",
      "Please ensure that this sensitive information is redacted.\n",
      "\n"
     ]
    }
   ],
   "source": [
    "doc = pymupdf.open('example.pdf')\n",
    "print(doc.load_page(0).get_text())"
   ]
  },
  {
   "cell_type": "markdown",
   "metadata": {},
   "source": [
    "Preparing Data for Chunking\n",
    "Chunking (or splitting) data is essential to give context to your LLM data and with Markdown output now supported by PyMuPDF this means that Level 3 chunking is supported.\n",
    "\n",
    "Outputting as Markdown\n",
    "In order to export your document in Markdown format you will need a separate helper. Package pymupdf4llm is a high-level wrapper of PyMuPDF functions which for each page outputs standard and table text in an integrated Markdown-formatted string across all document pages:\n",
    "\n",
    "# convert the document to markdown\n",
    "import pymupdf4llm\n",
    "md_text = pymupdf4llm.to_markdown(\"input.pdf\")\n",
    "\n",
    "# Write the text to some file in UTF8-encoding\n",
    "import pathlib\n",
    "pathlib.Path(\"output.md\").write_bytes(md_text.encode())\n",
    "For further information please refer to: pymupdf4llm documentation\n",
    "\n",
    "How to use Markdown output\n",
    "Once you have your data in Markdown format you are ready to chunk/split it and supply it to your LLM, for example, if this is LangChain then do the following:\n",
    "\n",
    "import pymupdf4llm\n",
    "from langchain.text_splitter import MarkdownTextSplitter\n",
    "\n",
    "# Get the MD text\n",
    "md_text = pymupdf4llm.to_markdown(\"input.pdf\")  # get markdown for all pages\n",
    "\n",
    "splitter = MarkdownTextSplitter(chunk_size=40, chunk_overlap=0)\n",
    "\n",
    "splitter.create_documents([md_text])"
   ]
  }
 ],
 "metadata": {
  "kernelspec": {
   "display_name": "v_310",
   "language": "python",
   "name": "python3"
  },
  "language_info": {
   "codemirror_mode": {
    "name": "ipython",
    "version": 3
   },
   "file_extension": ".py",
   "mimetype": "text/x-python",
   "name": "python",
   "nbconvert_exporter": "python",
   "pygments_lexer": "ipython3",
   "version": "3.10.14"
  }
 },
 "nbformat": 4,
 "nbformat_minor": 2
}
