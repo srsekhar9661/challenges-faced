{
 "cells": [
  {
   "cell_type": "markdown",
   "metadata": {},
   "source": [
    "# Working with pdf's and all other type of files like PDF, Doc, Images, etc"
   ]
  },
  {
   "cell_type": "markdown",
   "metadata": {},
   "source": [
    "### Installing the PyMuPDF module\n",
    "\n",
    "        pip install PyMuPDF"
   ]
  },
  {
   "cell_type": "markdown",
   "metadata": {},
   "source": [
    "### importing the module"
   ]
  },
  {
   "cell_type": "code",
   "execution_count": 1,
   "metadata": {},
   "outputs": [],
   "source": [
    "import pymupdf"
   ]
  },
  {
   "cell_type": "markdown",
   "metadata": {},
   "source": [
    "### Opening the File"
   ]
  },
  {
   "cell_type": "code",
   "execution_count": 18,
   "metadata": {},
   "outputs": [],
   "source": [
    "import pymupdf\n",
    "\n",
    "pdf = pymupdf.open('example.pdf')\n",
    "\n"
   ]
  },
  {
   "cell_type": "markdown",
   "metadata": {},
   "source": [
    "## Some Document Methods\n",
    "\n",
    "### Method / Attribute \n",
    "\n",
    "    Document.page_count     the number of pages (int)\n",
    "    Document.metadata       the metadata (dict)\n",
    "    Document.get_toc()      get the table of content (list)\n",
    "    Document.load_page()    read a Page"
   ]
  },
  {
   "cell_type": "code",
   "execution_count": 19,
   "metadata": {},
   "outputs": [
    {
     "name": "stdout",
     "output_type": "stream",
     "text": [
      "{'format': 'PDF 1.3', 'title': '', 'author': '', 'subject': '', 'keywords': '', 'creator': '', 'producer': 'PyFPDF 1.7.2 http://pyfpdf.googlecode.com/', 'creationDate': 'D:20240612210545', 'modDate': '', 'trapped': '', 'encryption': None}\n"
     ]
    }
   ],
   "source": [
    "import pymupdf\n",
    "\n",
    "pdf = pymupdf.open('example.pdf')\n",
    "\n",
    "print(pdf.metadata)"
   ]
  },
  {
   "cell_type": "code",
   "execution_count": 20,
   "metadata": {},
   "outputs": [
    {
     "name": "stdout",
     "output_type": "stream",
     "text": [
      "1\n"
     ]
    }
   ],
   "source": [
    "import pymupdf\n",
    "\n",
    "pdf = pymupdf.open('example.pdf')\n",
    "\n",
    "print(pdf.page_count)"
   ]
  },
  {
   "cell_type": "code",
   "execution_count": 22,
   "metadata": {},
   "outputs": [
    {
     "name": "stdout",
     "output_type": "stream",
     "text": [
      "[]\n"
     ]
    }
   ],
   "source": [
    "import pymupdf\n",
    "\n",
    "pdf = pymupdf.open('example.pdf')\n",
    "\n",
    "# getting the table of contents\n",
    "print(pdf.get_toc())"
   ]
  },
  {
   "cell_type": "code",
   "execution_count": 25,
   "metadata": {},
   "outputs": [
    {
     "name": "stdout",
     "output_type": "stream",
     "text": [
      "page 0 of example.pdf\n"
     ]
    }
   ],
   "source": [
    "import pymupdf\n",
    "\n",
    "pdf = pymupdf.open('example.pdf')\n",
    "\n",
    "# loading the page\n",
    "print(pdf.load_page(0))"
   ]
  },
  {
   "cell_type": "markdown",
   "metadata": {},
   "source": [
    "## Ways to load a page from the document\n",
    "\n",
    "    page numbers are similar to python list indices"
   ]
  },
  {
   "cell_type": "code",
   "execution_count": 26,
   "metadata": {},
   "outputs": [
    {
     "name": "stdout",
     "output_type": "stream",
     "text": [
      "page 0 of example.pdf\n",
      "page 0 of example.pdf\n"
     ]
    }
   ],
   "source": [
    "import pymupdf\n",
    "\n",
    "pdf = pymupdf.open('example.pdf')\n",
    "\n",
    "p1 = pdf.load_page(0)\n",
    "\n",
    "p2 = pdf[0]\n",
    "\n",
    "print(p1)\n",
    "print(p2)"
   ]
  },
  {
   "cell_type": "markdown",
   "metadata": {},
   "source": [
    "        for page in doc:\n",
    "        # do something with 'page'\n",
    "\n",
    "# ... or read backwards\n",
    "        for page in reversed(doc):\n",
    "        # do something with 'page'\n",
    "\n",
    "# ... or even use 'slicing'\n",
    "        for page in doc.pages(start, stop, step):\n",
    "        # do something with 'page'"
   ]
  },
  {
   "cell_type": "markdown",
   "metadata": {},
   "source": [
    "Extract Text from a PDF"
   ]
  },
  {
   "cell_type": "code",
   "execution_count": 4,
   "metadata": {},
   "outputs": [],
   "source": [
    "import pymupdf\n",
    "\n",
    "pdf = pymupdf.open('example.pdf')  # open a document\n",
    "out = open('output.txt', 'wb')  # create  text output\n",
    "\n",
    "for page in pdf:    #   iterate the document pages\n",
    "    text = page.get_text().encode('utf8')   # get plain text (is in UTF-8)\n",
    "    out.write(text)     #   write text of page\n",
    "    out.write(bytes((12,)))     # write page delimeter (from feed 0x0C)\n",
    "out.close()"
   ]
  },
  {
   "cell_type": "code",
   "execution_count": 5,
   "metadata": {},
   "outputs": [
    {
     "data": {
      "text/plain": [
       "'\\x0c'"
      ]
     },
     "execution_count": 5,
     "metadata": {},
     "output_type": "execute_result"
    }
   ],
   "source": [
    "chr(12)"
   ]
  },
  {
   "cell_type": "markdown",
   "metadata": {},
   "source": [
    "Simple way to extract text data from the pdf of each page"
   ]
  },
  {
   "cell_type": "code",
   "execution_count": 8,
   "metadata": {},
   "outputs": [
    {
     "name": "stdout",
     "output_type": "stream",
     "text": [
      "completed\n"
     ]
    }
   ],
   "source": [
    "import pymupdf\n",
    "\n",
    "pdf = pymupdf.open('Tamilnadu Trip.pdf')\n",
    "\n",
    "text = f\"{chr(12)}\\n\\n\".join([page.get_text() for page in pdf])\n",
    "\n",
    "with open('Tamilnadu Trip text.txt', 'w') as f:\n",
    "    f.write(text)\n",
    "\n",
    "print('completed')"
   ]
  },
  {
   "cell_type": "markdown",
   "metadata": {},
   "source": [
    "This methd don't work properly"
   ]
  },
  {
   "cell_type": "code",
   "execution_count": 10,
   "metadata": {},
   "outputs": [
    {
     "ename": "TypeError",
     "evalue": "sequence item 0: expected str instance, tuple found",
     "output_type": "error",
     "traceback": [
      "\u001b[1;31m---------------------------------------------------------------------------\u001b[0m",
      "\u001b[1;31mTypeError\u001b[0m                                 Traceback (most recent call last)",
      "Cell \u001b[1;32mIn[10], line 5\u001b[0m\n\u001b[0;32m      1\u001b[0m \u001b[38;5;28;01mimport\u001b[39;00m \u001b[38;5;21;01mpymupdf\u001b[39;00m\n\u001b[0;32m      3\u001b[0m pdf \u001b[38;5;241m=\u001b[39m pymupdf\u001b[38;5;241m.\u001b[39mopen(\u001b[38;5;124m'\u001b[39m\u001b[38;5;124mTamilnadu Trip.pdf\u001b[39m\u001b[38;5;124m'\u001b[39m)\n\u001b[1;32m----> 5\u001b[0m text \u001b[38;5;241m=\u001b[39m \u001b[38;5;124;43mf\u001b[39;49m\u001b[38;5;124;43m\"\u001b[39;49m\u001b[38;5;132;43;01m{\u001b[39;49;00m\u001b[38;5;28;43mchr\u001b[39;49m\u001b[43m(\u001b[49m\u001b[38;5;241;43m12\u001b[39;49m\u001b[43m)\u001b[49m\u001b[38;5;132;43;01m}\u001b[39;49;00m\u001b[38;5;130;43;01m\\n\u001b[39;49;00m\u001b[38;5;130;43;01m\\n\u001b[39;49;00m\u001b[38;5;124;43m\"\u001b[39;49m\u001b[38;5;241;43m.\u001b[39;49m\u001b[43mjoin\u001b[49m\u001b[43m(\u001b[49m\u001b[43m[\u001b[49m\u001b[43mpage\u001b[49m\u001b[38;5;241;43m.\u001b[39;49m\u001b[43mget_text\u001b[49m\u001b[43m(\u001b[49m\u001b[38;5;124;43m'\u001b[39;49m\u001b[38;5;124;43mblocks\u001b[39;49m\u001b[38;5;124;43m'\u001b[39;49m\u001b[43m)\u001b[49m\u001b[43m[\u001b[49m\u001b[38;5;241;43m4\u001b[39;49m\u001b[43m]\u001b[49m\u001b[43m \u001b[49m\u001b[38;5;28;43;01mfor\u001b[39;49;00m\u001b[43m \u001b[49m\u001b[43mpage\u001b[49m\u001b[43m \u001b[49m\u001b[38;5;129;43;01min\u001b[39;49;00m\u001b[43m \u001b[49m\u001b[43mpdf\u001b[49m\u001b[43m]\u001b[49m\u001b[43m)\u001b[49m\n\u001b[0;32m      7\u001b[0m \u001b[38;5;28;01mwith\u001b[39;00m \u001b[38;5;28mopen\u001b[39m(\u001b[38;5;124m'\u001b[39m\u001b[38;5;124mTamilnadu Trip text blocks.txt\u001b[39m\u001b[38;5;124m'\u001b[39m, \u001b[38;5;124m'\u001b[39m\u001b[38;5;124mw\u001b[39m\u001b[38;5;124m'\u001b[39m) \u001b[38;5;28;01mas\u001b[39;00m f:\n\u001b[0;32m      8\u001b[0m     f\u001b[38;5;241m.\u001b[39mwrite(text)\n",
      "\u001b[1;31mTypeError\u001b[0m: sequence item 0: expected str instance, tuple found"
     ]
    }
   ],
   "source": [
    "import pymupdf\n",
    "\n",
    "pdf = pymupdf.open('Tamilnadu Trip.pdf')\n",
    "\n",
    "text = f\"{chr(12)}\\n\\n\".join([page.get_text('blocks') for page in pdf])\n",
    "\n",
    "with open('Tamilnadu Trip text blocks.txt', 'w') as f:\n",
    "    f.write(text)\n",
    "\n",
    "print('completed')"
   ]
  },
  {
   "cell_type": "markdown",
   "metadata": {},
   "source": [
    "Extracting Key Value Pairs"
   ]
  },
  {
   "cell_type": "code",
   "execution_count": 16,
   "metadata": {},
   "outputs": [
    {
     "name": "stdout",
     "output_type": "stream",
     "text": [
      "Invoice date: 05/25/2023\n",
      "Invoice number: 2023-512\n",
      "Price: $1024.00\n",
      "Subtotal: $1024.00\n",
      "Tax: $0.00\n",
      "Balance due: $1024.00\n"
     ]
    }
   ],
   "source": [
    "\"\"\"\n",
    "Utility\n",
    "--------\n",
    "This demo script show how to extract key-value pairs from a page with a\n",
    "\"predictable\" layout, as it can be found in invoices and other formalized\n",
    "documents.\n",
    "\n",
    "In such cases, a text extraction based on \"words\" leads to results that\n",
    "are both, simple and fast and avoid using regular expressions.\n",
    "\n",
    "The example analyzes an invoice and extracts the date, invoice number, and\n",
    "various amounts.\n",
    "\n",
    "Because of the sort, correct values for each keyword will be found if the\n",
    "value's boundary box bottom is not higher than that of the keyword.\n",
    "So it could just as well be on the next line. The only condition is, that\n",
    "no other text exists in between.\n",
    "\n",
    "Please note that the code works unchanged also for other supported document\n",
    "types, such as XPS or EPUB, etc.\n",
    "\"\"\"\n",
    "\n",
    "import fitz\n",
    "\n",
    "doc = fitz.open(\"invoice-simple.pdf\")  # example document\n",
    "page = doc[0]  # first page\n",
    "words = page.get_text(\"words\", sort=True)  # extract sorted words\n",
    "\n",
    "for i, word in enumerate(words):\n",
    "    # information items will be found prefixed with their \"key\"\n",
    "    text = word[4]\n",
    "    if text == \"DATE:\":  # the following word will be the date!\n",
    "        date = words[i + 1][4]\n",
    "        print(\"Invoice date:\", date)\n",
    "    elif text == \"Subtotal\":\n",
    "        subtotal = words[i + 1][4]\n",
    "        print(\"Subtotal:\", subtotal)\n",
    "    elif text == \"Tax\":\n",
    "        tax = words[i + 1][4]\n",
    "        print(\"Tax:\", tax)\n",
    "    elif text == \"Price\":\n",
    "        price = words[i + 9][4]\n",
    "        print(\"Price:\", price)\n",
    "    elif text == \"INVOICE\":\n",
    "        inv_number = words[i + 2][4]  # skip the \"#\" sign\n",
    "        print(\"Invoice number:\", inv_number)\n",
    "    elif text == \"BALANCE\":\n",
    "        balance = words[i + 2][4]  # skip the word \"DUE\"\n",
    "        print(\"Balance due:\", balance)"
   ]
  },
  {
   "cell_type": "markdown",
   "metadata": {},
   "source": [
    "# How to Extract Text from within a Rectangle"
   ]
  },
  {
   "cell_type": "markdown",
   "metadata": {},
   "source": [
    "Extracting Text from within a Rectangle\n",
    "Extracting text from within specific rectangular areas of a document page is frequently required.\n",
    "\n",
    "In PyMuPDF, you can select from several options to achieve this. All methods are applicable to all document types support by MuPDF - not only PDF. Choose the right method from the following list:\n",
    "\n",
    "1. Page.get_text(\"words\")\n",
    "This is an old, standard extraction method. The method delivers a list of tuples, which each represent one string without spaces (called a \"word\") - together with its position. Each tuple looks like this: (x0, y0, x1, y1, \"string\", blocknumber, linenumber, wordnumber). The first 4 items are the coordinates of the bbox that surround \"string\". The last 3 items are block number on the page, line number in a block, word number in a line.\n",
    "\n",
    "You have to write a script which selects the words contained in (or intersecting) the given rectangle by using the bbox coordinates, then sort the result, and then glue words together again that belong to the same line.\n",
    "\n",
    "This approach can cope with documents where text is not stored in desired reading sequence: you will probably sort the word list by vertical and then by horizontal coordinates. You may also find a way to put words in the same line even if their vertical coordinates differ by some small threshold.\n",
    "\n",
    "The script textbox-extract-1.py is an example for such a script. It also implements two word selection alternatives: one with only accepting fully contained words, and a second one including intersecting words.\n",
    "\n",
    "2. Page.get_textbox(rect)\n",
    "Returns text contained in the rectangle 'rect'. Text appears in the sequence as coded in the document. So it may not be in a desirable reading sequence. Inclusion of text is decided by character and words may hence appear mutilated. Line breaks may be present, but one final line break will be omitted. See the example script textbox-extract-2.py in this folder.\n",
    "\n",
    "3. Page.get_text(\"text\", clip=rect)\n",
    "This is one of the old, standard extraction methods. The clip parameter is new and was introduced in version 1.17.7. If clip is not None, the result looks like the previous method's output, except that there always is a final line break.\n",
    "\n",
    "Notes\n",
    "This folder contains an example file search.pdf with one page and an annotation which shows the area to select from. The TOFU symbol in some of the outputs further down represents the big black triangle whose character bbox intersects the selection rectangle.\n",
    "\n",
    "screen\n",
    "\n",
    "Output of textbox-extract-1.py\n",
    "This script is based on Page.get_text(\"words\"). Words are selected in two ways: (1) whether they are fully contained in the given rectangle, or (2) whether their bbox has a non-empty intersection with it. Look at the above picture to compare these effects. The bottom vertical coordinates y1 of the words are rounded to cope with any artifacts that may be caused by e.g. font changes or similar things.\n",
    "\n",
    "Select the words strictly contained in rectangle\n",
    "------------------------------------------------\n",
    "Wer eine perfekte\n",
    "schaffen will, braucht\n",
    "und Seife.\n",
    "das schon länger und\n",
    "diesbezüglich mit\n",
    "aus. Unter\n",
    "sie auf den\n",
    "Guaran (E 412).\n",
    "\n",
    "Select the words intersecting the rectangle\n",
    "-------------------------------------------\n",
    "Wer eine perfekte Seifenblase\n",
    "schaffen will, braucht mehr\n",
    "\n",
    "Wasser und Seife. Enthusiasten\n",
    "sen das schon länger und tauschen\n",
    "sich diesbezüglich mit Hilfe\n",
    "Online-Wikis aus. Unter anderem\n",
    "schwören sie auf den Lebensmittel-\n",
    "zusatzstoff Guaran (E 412).\n",
    "Output of textbox-extract-2.py\n",
    "This is based on Page.get_textbox(rect). The selection is based on single characters: a character belongs to the party if its bbox intersects rect. Apart from this, text is selected as present in the document - including any spaces and line breaks, no reordering takes place.\n",
    "\n",
    "This obviously is a lot simpler and may be sufficient if you have no issue with the reading sequence and properly positioning the selection rectangle.\n",
    "\n",
    "It would also be the typical way to verify that the text found by some previous Page.search_for() really is what you have been looking for.\n",
    "\n",
    "\n",
    "Wer eine perfekte Seife\n",
    "schaffen will, braucht m\n",
    "asser und Seife. Enthusia\n",
    "n das schon länger und t\n",
    "ch diesbezüglich mit Hilfe\n",
    "nline-Wikis aus. Unter an\n",
    "hwören sie auf den Lebe\n",
    "satzstoff Guaran (E 412)."
   ]
  },
  {
   "cell_type": "markdown",
   "metadata": {},
   "source": [
    "# Inspecting the Links, Annotations or Form Fields of a Page"
   ]
  },
  {
   "cell_type": "markdown",
   "metadata": {},
   "source": [
    "### get all links on a page\n",
    "links = page.get_links()\n",
    "\n",
    "for link in page.links():\n",
    "    \n",
    "        do something with 'link'"
   ]
  },
  {
   "cell_type": "markdown",
   "metadata": {},
   "source": [
    "### If dealing with a PDF document page, there may also exist annotations (Annot) or form fields (Widget), each of which have their own iterators:\n",
    "\n",
    "for annot in page.annots():\n",
    "    \n",
    "        # do something with 'annot'\n",
    "\n",
    "\n",
    "for field in page.widgets():\n",
    "    \n",
    "        # do something with 'field'"
   ]
  },
  {
   "cell_type": "markdown",
   "metadata": {},
   "source": [
    "# Rendering a Page\n",
    "### This example creates a raster image of a page’s content:\n",
    "\n",
    "pix = page.get_pixmap()\n",
    "\n",
    "pix is a Pixmap object which (in this case) contains an RGB image of the page, ready to be used for many purposes. Method Page.get_pixmap() offers lots of variations for controlling the image: resolution / DPI, colorspace (e.g. to produce a grayscale image or an image with a subtractive color scheme), transparency, rotation, mirroring, shifting, shearing, etc. For example: to create an RGBA image (i.e. containing an alpha channel), specify pix = page.get_pixmap(alpha=True).\n",
    "\n",
    "A Pixmap contains a number of methods and attributes which are referenced below. Among them are the integers width, height (each in pixels) and stride (number of bytes of one horizontal image line). Attribute samples represents a rectangular area of bytes representing the image data (a Python bytes object).\n",
    "\n",
    "\n",
    "### Note\n",
    "You can also create a vector image of a page by using Page.get_svg_image(). Refer to this Vector Image Support page for details.\n",
    "\n",
    "## Saving the Page Image in a File\n",
    "we can simply store the image in a PNG file:\n",
    "\n",
    "    pix.save('page-%i.png' % page.number)\n",
    "\n",
    "\n",
    "from PIL import Image, ImageTk\n",
    "\n",
    "# set the mode depending on alpha\n",
    "mode = \"RGBA\" if pix.alpha else \"RGB\"\n",
    "img = Image.frombytes(mode, [pix.width, pix.height], pix.samples)\n",
    "tkimg = ImageTk.PhotoImage(img)\n",
    "\n",
    "# The following avoids using Pillow:\n",
    "\n",
    "# remove alpha if present\n",
    "pix1 = pymupdf.Pixmap(pix, 0) if pix.alpha else pix  # PPM does not support transparency\n",
    "imgdata = pix1.tobytes(\"ppm\")  # extremely fast!\n",
    "tkimg = tkinter.PhotoImage(data = imgdata)\n",
    "\n",
    "\n",
    "Extracting Text and Images\n",
    "We can also extract all text, images and other information of a page in many different forms, and levels of detail:\n",
    "\n",
    "text = page.get_text(opt)\n",
    "Use one of the following strings for opt to obtain different formats [2]:\n",
    "\n",
    "“text”: (default) plain text with line breaks. No formatting, no text position details, no images.\n",
    "\n",
    "“blocks”: generate a list of text blocks (= paragraphs).\n",
    "\n",
    "“words”: generate a list of words (strings not containing spaces).\n",
    "\n",
    "“html”: creates a full visual version of the page including any images. This can be displayed with your internet browser.\n",
    "\n",
    "“dict” / “json”: same information level as HTML, but provided as a Python dictionary or resp. JSON string. See TextPage.extractDICT() for details of its structure.\n",
    "\n",
    "“rawdict” / “rawjson”: a super-set of “dict” / “json”. It additionally provides character detail information like XML. See TextPage.extractRAWDICT() for details of its structure.\n",
    "\n",
    "“xhtml”: text information level as the TEXT version but includes images. Can also be displayed by internet browsers.\n",
    "\n",
    "“xml”: contains no images, but full position and font information down to each single text character. Use an XML module to interpret.\n"
   ]
  },
  {
   "cell_type": "markdown",
   "metadata": {},
   "source": [
    "# Searching for Text\n",
    "You can find out, exactly where on a page a certain text string appears:\n",
    "\n",
    "    areas = page.search_for(\"mupdf\")\n",
    "\n",
    "This delivers a list of rectangles (see Rect), each of which surrounds one occurrence of the string “mupdf” (case insensitive). You could use this information to e.g. highlight those areas (PDF only) or create a cross reference of the document.\n",
    "\n",
    "# PDF Maintenance\n",
    "PDFs are the only document type that can be modified using PyMuPDF. Other file types are read-only.\n",
    "\n",
    "However, you can convert any document (including images) to a PDF and then apply all PyMuPDF features to the conversion result.\n",
    "\n",
    "\n",
    "Find out more here Document.convert_to_pdf(), and also look at the demo script pdf-converter.py which can convert any supported document to PDF.\n",
    "\n",
    "Document.save() always stores a PDF in its current (potentially modified) state on disk.\n",
    "\n"
   ]
  },
  {
   "cell_type": "markdown",
   "metadata": {},
   "source": [
    "# Modifying, Creating, Re-arranging and Deleting Pages\n",
    "\n",
    "There are several ways to manipulate the so-called page tree (a structure describing all the pages) of a PDF:\n",
    "\n",
    "Document.delete_page() and Document.delete_pages() delete pages.\n",
    "\n",
    "Document.copy_page(), Document.fullcopy_page() and Document.move_page() copy or move a page to other locations within the same document.\n",
    "\n",
    "\n",
    "Document.select() shrinks a PDF down to selected pages. Parameter is a sequence [3] of the page numbers that you want to keep. These integers must all be in range 0 <= i < page_count. When executed, all pages missing in this list will be deleted. Remaining pages will occur in the sequence and as many times (!) as you specify them.\n",
    "\n",
    "So you can easily create new PDFs with\n",
    "\n",
    "the first or last 10 pages,\n",
    "\n",
    "only the odd or only the even pages (for doing double-sided printing),\n",
    "\n",
    "pages that do or don’t contain a given text,\n",
    "\n",
    "reverse the page sequence, …\n",
    "\n",
    "… whatever you can think of.\n",
    "\n",
    "The saved new document will contain links, annotations and bookmarks that are still valid (i.a.w. either pointing to a selected page or to some external resource).\n",
    "\n",
    "Document.insert_page() and Document.new_page() insert new pages.\n",
    "\n",
    "Pages themselves can moreover be modified by a range of methods (e.g. page rotation, annotation and link maintenance, text and image insertion)."
   ]
  },
  {
   "cell_type": "markdown",
   "metadata": {},
   "source": [
    "# joining and Splitting PDF Documents\n",
    "Method Document.insert_pdf() copies pages between different PDF documents. Here is a simple joiner example (doc1 and doc2 being opened PDFs):\n",
    "\n",
    "### append complete doc2 to the end of doc1\n",
    "\n",
    "    doc1.insert_pdf(doc2)\n",
    "\n",
    "Here is a snippet that splits doc1. It creates a new document of its first and its last 10 pages:\n",
    "\n",
    "    doc2 = pymupdf.open()                 # new empty PDF\n",
    "    doc2.insert_pdf(doc1, to_page = 9)  # first 10 pages\n",
    "    doc2.insert_pdf(doc1, from_page = len(doc1) - 10) # last 10 pages\n",
    "    doc2.save(\"first-and-last-10.pdf\")\n",
    "\n",
    "\n",
    "# Saving\n",
    "As mentioned above, Document.save() will always save the document in its current state.\n",
    "\n",
    "You can write changes back to the original PDF by specifying option incremental=True. This process is (usually) extremely fast, since changes are appended to the original file without completely rewriting it.\n",
    "\n",
    "Document.save() options correspond to options of MuPDF’s command line utility mutool clean, see the following table.\n",
    "\n",
    "\n",
    "# Closing\n",
    "It is often desirable to “close” a document to relinquish control of the underlying file to the OS, while your program continues.\n",
    "\n",
    "This can be achieved by the Document.close() method. Apart from closing the underlying file, buffer areas associated with the document will be freed."
   ]
  },
  {
   "cell_type": "markdown",
   "metadata": {},
   "source": []
  }
 ],
 "metadata": {
  "kernelspec": {
   "display_name": "v_310",
   "language": "python",
   "name": "python3"
  },
  "language_info": {
   "codemirror_mode": {
    "name": "ipython",
    "version": 3
   },
   "file_extension": ".py",
   "mimetype": "text/x-python",
   "name": "python",
   "nbconvert_exporter": "python",
   "pygments_lexer": "ipython3",
   "version": "3.10.14"
  }
 },
 "nbformat": 4,
 "nbformat_minor": 2
}
