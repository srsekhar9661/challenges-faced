{
 "cells": [
  {
   "cell_type": "code",
   "execution_count": 1,
   "metadata": {},
   "outputs": [],
   "source": [
    "import re"
   ]
  },
  {
   "cell_type": "code",
   "execution_count": 2,
   "metadata": {},
   "outputs": [
    {
     "data": {
      "text/plain": [
       "['A',\n",
       " 'ASCII',\n",
       " 'DEBUG',\n",
       " 'DOTALL',\n",
       " 'I',\n",
       " 'IGNORECASE',\n",
       " 'L',\n",
       " 'LOCALE',\n",
       " 'M',\n",
       " 'MULTILINE',\n",
       " 'Match',\n",
       " 'Pattern',\n",
       " 'RegexFlag',\n",
       " 'S',\n",
       " 'Scanner',\n",
       " 'T',\n",
       " 'TEMPLATE',\n",
       " 'U',\n",
       " 'UNICODE',\n",
       " 'VERBOSE',\n",
       " 'X',\n",
       " '_MAXCACHE',\n",
       " '__all__',\n",
       " '__builtins__',\n",
       " '__cached__',\n",
       " '__doc__',\n",
       " '__file__',\n",
       " '__loader__',\n",
       " '__name__',\n",
       " '__package__',\n",
       " '__spec__',\n",
       " '__version__',\n",
       " '_cache',\n",
       " '_compile',\n",
       " '_compile_repl',\n",
       " '_expand',\n",
       " '_locale',\n",
       " '_pickle',\n",
       " '_special_chars_map',\n",
       " '_subx',\n",
       " 'compile',\n",
       " 'copyreg',\n",
       " 'enum',\n",
       " 'error',\n",
       " 'escape',\n",
       " 'findall',\n",
       " 'finditer',\n",
       " 'fullmatch',\n",
       " 'functools',\n",
       " 'match',\n",
       " 'purge',\n",
       " 'search',\n",
       " 'split',\n",
       " 'sre_compile',\n",
       " 'sre_parse',\n",
       " 'sub',\n",
       " 'subn',\n",
       " 'template']"
      ]
     },
     "execution_count": 2,
     "metadata": {},
     "output_type": "execute_result"
    }
   ],
   "source": [
    "dir(re)"
   ]
  },
  {
   "cell_type": "code",
   "execution_count": 5,
   "metadata": {},
   "outputs": [
    {
     "name": "stdout",
     "output_type": "stream",
     "text": [
      "Help on function match in module re:\n",
      "\n",
      "match(pattern, string, flags=0)\n",
      "    Try to apply the pattern at the start of the string, returning\n",
      "    a Match object, or None if no match was found.\n",
      "\n"
     ]
    }
   ],
   "source": [
    "help(re.match)"
   ]
  },
  {
   "cell_type": "code",
   "execution_count": 6,
   "metadata": {},
   "outputs": [
    {
     "name": "stdout",
     "output_type": "stream",
     "text": [
      "Help on function search in module re:\n",
      "\n",
      "search(pattern, string, flags=0)\n",
      "    Scan through string looking for a match to the pattern, returning\n",
      "    a Match object, or None if no match was found.\n",
      "\n"
     ]
    }
   ],
   "source": [
    "help(re.search)"
   ]
  },
  {
   "cell_type": "code",
   "execution_count": 8,
   "metadata": {},
   "outputs": [
    {
     "name": "stdout",
     "output_type": "stream",
     "text": [
      "Help on function findall in module re:\n",
      "\n",
      "findall(pattern, string, flags=0)\n",
      "    Return a list of all non-overlapping matches in the string.\n",
      "    \n",
      "    If one or more capturing groups are present in the pattern, return\n",
      "    a list of groups; this will be a list of tuples if the pattern\n",
      "    has more than one group.\n",
      "    \n",
      "    Empty matches are included in the result.\n",
      "\n"
     ]
    }
   ],
   "source": [
    "help(re.findall)"
   ]
  },
  {
   "cell_type": "code",
   "execution_count": 9,
   "metadata": {},
   "outputs": [
    {
     "name": "stdout",
     "output_type": "stream",
     "text": [
      "['Subject Number', 'Age', 'Race', 'Sex', 'study number', 'study treatment', 'treatment start date']\n"
     ]
    }
   ],
   "source": [
    "import re\n",
    "str_object = \"Subject <Subject Number>, a <Age>-year-old <Race> and <Sex>, was enrolled into study <study number> and began a treatment of <study treatment> on <treatment start date>.\"\n",
    "pattern = r'<(.*?)>'\n",
    "re_results = re.findall(pattern, str_object)\n",
    "print(re_results)"
   ]
  },
  {
   "cell_type": "code",
   "execution_count": null,
   "metadata": {},
   "outputs": [
    {
     "name": "stdout",
     "output_type": "stream",
     "text": [
      "Subject Number\n",
      "Age\n",
      "Race\n",
      "Sex\n",
      "study number\n",
      "study treatment\n",
      "treatment start date\n"
     ]
    }
   ],
   "source": [
    "for i in re_results:\n",
    "    print(i)"
   ]
  },
  {
   "cell_type": "code",
   "execution_count": null,
   "metadata": {},
   "outputs": [],
   "source": []
  },
  {
   "cell_type": "code",
   "execution_count": 1,
   "metadata": {},
   "outputs": [
    {
     "name": "stdout",
     "output_type": "stream",
     "text": [
      "hello\n"
     ]
    }
   ],
   "source": [
    "print('hello')"
   ]
  },
  {
   "cell_type": "code",
   "execution_count": 28,
   "metadata": {},
   "outputs": [
    {
     "name": "stdout",
     "output_type": "stream",
     "text": [
      "type of result <class 'str'>  result = 12346\n",
      "<class 're.Match'>\n",
      "1\n",
      "['__class__', '__class_getitem__', '__copy__', '__deepcopy__', '__delattr__', '__dir__', '__doc__', '__eq__', '__format__', '__ge__', '__getattribute__', '__getitem__', '__gt__', '__hash__', '__init__', '__init_subclass__', '__le__', '__lt__', '__module__', '__ne__', '__new__', '__reduce__', '__reduce_ex__', '__repr__', '__setattr__', '__sizeof__', '__str__', '__subclasshook__', 'end', 'endpos', 'expand', 'group', 'groupdict', 'groups', 'lastgroup', 'lastindex', 'pos', 're', 'regs', 'span', 'start', 'string']\n",
      "Help on built-in function group:\n",
      "\n",
      "group(...) method of re.Match instance\n",
      "    group([group1, ...]) -> str or tuple.\n",
      "    Return subgroup(s) of the match by indices or names.\n",
      "    For 0 returns the entire match.\n",
      "\n",
      "None\n",
      "Help on built-in function end:\n",
      "\n",
      "end(group=0, /) method of re.Match instance\n",
      "    Return index of the end of the substring matched by group.\n",
      "\n",
      "None\n",
      "23\n"
     ]
    }
   ],
   "source": [
    "import re\n",
    "\n",
    "my_string = '20 raja sekhar____12346'\n",
    "\n",
    "match = re.search(r'\\d+$', my_string)\n",
    "\n",
    "result = match.group()\n",
    "print(f\"type of result {type(result)}  result = {result}\")\n",
    "length = len(result)\n",
    "my_string[:-(length + 4)]\n",
    "print(type(match))\n",
    "print(1)\n",
    "print(dir(match))\n",
    "print(help(match.group))\n",
    "print(help(match.end))\n",
    "print(match.end())"
   ]
  },
  {
   "cell_type": "code",
   "execution_count": 36,
   "metadata": {},
   "outputs": [
    {
     "data": {
      "text/plain": [
       "re.compile(r'\\d+$', re.UNICODE)"
      ]
     },
     "execution_count": 36,
     "metadata": {},
     "output_type": "execute_result"
    }
   ],
   "source": [
    "match.re"
   ]
  },
  {
   "cell_type": "code",
   "execution_count": 47,
   "metadata": {},
   "outputs": [
    {
     "name": "stdout",
     "output_type": "stream",
     "text": [
      "SUSPECT ADVERSE REACTION REPORT\n",
      "1 PATIENT INITIALS first last\n",
      "1a COUNTRY\n",
      "2_DateOfBirth\n",
      "2a AGE Years\n",
      "3_Sex\n",
      "4_ReactionOnset\n",
      "7  13 DESCRIBE REACTIONS including relevant testslab data\n",
      "PatientDied\n",
      "InpatientHospitalisation\n",
      "Persistence_Incapacity\n",
      "LifeThreatening\n",
      "14_SuspectDrugs\n",
      "20\n",
      "20\n",
      "20\n",
      "15_DailyDoses\n",
      "16_RoutesOfAdmin\n",
      "17_IndicationsForUse\n",
      "21\n",
      "21\n",
      "21\n",
      "18_TherapyFrom\n",
      "18_TherapyTo\n",
      "19_TherapyDuration\n",
      "22 CONCOMITANT DRUGS AND DATES OF ADMINISTRATION exclude those used to treat reaction\n",
      "23 OTHER RELEVANT HISTORY eg diagnostics allergies pregnancy with last month of period etc\n",
      "24A_NameOfManufacturer\n",
      "24a  ADDRESS OF MANUFACTURER\n",
      "24b MFR CONTROL NO\n",
      "24_ManufacturerDetails\n",
      "24c DATE RECEIVED BY MANUFACTURER\n",
      "DATE OF THIS REPORT\n",
      "24d_Study\n",
      "24d_HealthProfessional\n",
      "24d_Literature\n",
      "25\n",
      "25\n"
     ]
    }
   ],
   "source": [
    "import json\n",
    "import re\n",
    "\n",
    "\n",
    "# this test_json_adat is like the json file that is used for the matching field regarding the fillable fields in the pdf\n",
    "with open(r'C:\\Users\\sekhar\\Desktop\\Sekhar\\challenges-faced\\new_features_project\\test_josn_data.json', 'r') as fp:\n",
    "    data = json.load(fp)\n",
    "    \n",
    "    for k, v in data.items():\n",
    "        # in the original file the format to find the RadioButton is it ends with ____[0-9]{0,3}\n",
    "        match = re.search(r'__[0-9]{0,3}$', k)\n",
    "        if match:\n",
    "            print(k[:-(len(match.group())  + 2)])\n",
    "            continue\n",
    "        print(k)"
   ]
  },
  {
   "cell_type": "code",
   "execution_count": 45,
   "metadata": {},
   "outputs": [
    {
     "data": {
      "text/plain": [
       "0"
      ]
     },
     "execution_count": 45,
     "metadata": {},
     "output_type": "execute_result"
    }
   ],
   "source": [
    "1 if re.search(r'__[0-9]{0,3}$',\"raja_9\") else 0"
   ]
  },
  {
   "cell_type": "code",
   "execution_count": null,
   "metadata": {},
   "outputs": [],
   "source": []
  }
 ],
 "metadata": {
  "kernelspec": {
   "display_name": "p_310",
   "language": "python",
   "name": "python3"
  },
  "language_info": {
   "codemirror_mode": {
    "name": "ipython",
    "version": 3
   },
   "file_extension": ".py",
   "mimetype": "text/x-python",
   "name": "python",
   "nbconvert_exporter": "python",
   "pygments_lexer": "ipython3",
   "version": "3.10.14"
  }
 },
 "nbformat": 4,
 "nbformat_minor": 2
}
