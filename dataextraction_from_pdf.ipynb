{
 "cells": [
  {
   "cell_type": "code",
   "execution_count": 2,
   "metadata": {},
   "outputs": [
    {
     "name": "stdout",
     "output_type": "stream",
     "text": [
      "document is saved to output_file.txt\n"
     ]
    }
   ],
   "source": [
    "import pymupdf\n",
    "\n",
    "\n",
    "pdf_address = input('Enter the pdf address : \\t')\n",
    "output_file = \"output_file.txt\"\n",
    "\n",
    "doc = pymupdf.open(pdf_address)\n",
    "pdf_text = \"\"\n",
    "for num,page in enumerate(doc):\n",
    "    page_text = page.get_text()\n",
    "    pdf_text += f\" Page Number : {num} \\n {page_text}\\n\\n\"\n",
    "\n",
    "with open(output_file, 'w') as fp:\n",
    "    fp.write(pdf_text)\n",
    "\n",
    "doc.close()\n",
    "print(f\"document is saved to {output_file}\")"
   ]
  },
  {
   "cell_type": "code",
   "execution_count": 3,
   "metadata": {},
   "outputs": [
    {
     "name": "stdout",
     "output_type": "stream",
     "text": [
      "completed\n"
     ]
    }
   ],
   "source": [
    "import sys, pathlib, pymupdf\n",
    "fname = input('Enter the pdf address : \\t')  # get document filename\n",
    "with pymupdf.open(fname) as doc:  # open document\n",
    "    text = chr(12).join([page.get_text() for page in doc])\n",
    "# write as a binary file to support non-ASCII characters\n",
    "pathlib.Path(\"output_2_file.txt\").write_bytes(text.encode())\n",
    "print('completed')"
   ]
  },
  {
   "cell_type": "code",
   "execution_count": 6,
   "metadata": {},
   "outputs": [
    {
     "name": "stdout",
     "output_type": "stream",
     "text": [
      "\n",
      "completed\n"
     ]
    }
   ],
   "source": [
    "import sys, pathlib, pymupdf\n",
    "fname = r\"C:\\Users\\USER\\Downloads\\demographic.pdf\"  # get document filename\n",
    "with pymupdf.open(fname) as doc:  # open document\n",
    "    [print(page.get_text()) for page in doc]\n",
    "# write as a binary file to support non-ASCII characters\n",
    "# pathlib.Path(\"output_2_file.txt\").write_bytes(text.encode())\n",
    "print('completed')"
   ]
  },
  {
   "cell_type": "code",
   "execution_count": null,
   "metadata": {},
   "outputs": [],
   "source": []
  }
 ],
 "metadata": {
  "kernelspec": {
   "display_name": "v_310",
   "language": "python",
   "name": "python3"
  },
  "language_info": {
   "codemirror_mode": {
    "name": "ipython",
    "version": 3
   },
   "file_extension": ".py",
   "mimetype": "text/x-python",
   "name": "python",
   "nbconvert_exporter": "python",
   "pygments_lexer": "ipython3",
   "version": "3.10.14"
  }
 },
 "nbformat": 4,
 "nbformat_minor": 2
}
