{
 "cells": [
  {
   "cell_type": "code",
   "execution_count": 1,
   "metadata": {},
   "outputs": [
    {
     "name": "stdout",
     "output_type": "stream",
     "text": [
      "4.9.0\n"
     ]
    }
   ],
   "source": [
    "# Introduction to OpenCV-Python Tutorials\n",
    "import cv2\n",
    "print(cv2.__version__)\n"
   ]
  },
  {
   "cell_type": "markdown",
   "metadata": {},
   "source": [
    "### Reading an image \n",
    "        img = cv2.imread('LOCATION OF THE IMAGE')\n",
    "\n",
    "    The above function imread stores the image at the given location to the variable img.\n",
    "\n",
    "### Converting an image to grayscale \n",
    "\n",
    "        img = cv2.imread('watch.jpg',cv2.IMREAD_GRAYSCALE)\n",
    "    The above function converts the image to grayscale and then stores it in the variable img.\n",
    "\n",
    "### Showing the stored image \n",
    "\n",
    "        cv2.imshow('image',img)\n",
    "    The above function shows the image stored in img variable.\n",
    "\n",
    "### Save an image to a file \n",
    "\n",
    "        cv2.imwrite(filename, img)\n",
    "    The above function stores the image in the file. The image is stored in the variable of type Mat that is in the form of a matrix.\n",
    "\n",
    "### Reading video directly from the webcam \n",
    "\n",
    "        cap = cv2.VideoCapture(0)\n",
    "    Stores live video from your webcam in the variable cap.\n",
    "\n",
    "### Reading a video from local storage \n",
    "\n",
    "        cap = cv2.VideoCapture('LOCATION OF THE VIDEO')\n",
    "    Stores the video located in the given location to the variable.\n",
    "\n",
    "### To check if the video is successfully stored in the variable\n",
    "\n",
    "        cap.isOpened()\n",
    "    cap is the variable that contains the video. The above function returns true if the video is successfully opened else returns false.\n",
    "\n",
    "### Release the stored video after processing is done \n",
    "\n",
    "        cap.release()\n",
    "    The above function releases the video stored in cap."
   ]
  },
  {
   "cell_type": "markdown",
   "metadata": {},
   "source": [
    "### Reading an image in OpenCV using Python\n",
    "\n",
    "    In this article, we’ll try to open an image by using OpenCV (Open Source Computer Vision) library.  Following types of files are supported in OpenCV library:\n",
    "\n",
    "    Windows bitmaps – *.bmp, *.dib\n",
    "    JPEG files – *.jpeg, *.jpg\n",
    "    Portable Network Graphics – *.png \n",
    "    WebP – *.webp \n",
    "    Sun rasters – *.sr, *.ras \n",
    "    TIFF files – *.tiff, *.tif \n",
    "    Raster and Vector geospatial data supported by GDAL \n",
    "    To use the OpenCV library in python, we need to install these libraries as a prerequisite:\n",
    "\n",
    "    Numpy Library : The computer processes images in the form of a matrix for which NumPy is used and  OpenCV uses it in the background.\n",
    "    OpenCV python : OpenCV library previously it was cv but the updated version is cv2. It is used to manipulate images and videos.\n",
    "\n",
    "    To install these libraries, we need to run these pip commands in cmd:\n",
    "\n",
    "        pip install opencv-python\n",
    "        pip install numpy\n",
    "        pip install matplotlib\n",
    "\n",
    "    The steps to read and display an image in OpenCV are:\n",
    "\n",
    "    1. Read an image using imread() function.\n",
    "\n",
    "    2. Create a GUI window and display image using imshow() function.\n",
    "\n",
    "    3. Use function waitkey(0) to hold the image window on the screen by the specified number of seconds, o means till the user closes it, it will hold GUI window on the screen.\n",
    "\n",
    "    4. Delete image window from the memory after displaying using destroyAllWindows() function.\n",
    "\n",
    "    Let’s start reading an image. using cv2.\n",
    "    To read the images cv2.imread() method is used. This method loads an image from the specified file. If the image cannot be read (because of missing file, improper permissions, unsupported or invalid format) then this method returns an empty matrix.\n",
    "\n",
    "    Syntax: cv2.imread(path, flag)\n",
    "\n",
    "    Parameters:\n",
    "    path: A string representing the path of the image to be read.\n",
    "    flag: It specifies the way in which image should be read. It’s default value is cv2.IMREAD_COLOR\n",
    "\n",
    "    Return Value: This method returns an image that is loaded from the specified file.\n",
    "\n",
    "    Note: \n",
    "\n",
    "    The image should be in the working directory or a full path of image should be given.\n",
    "    By default, OpenCV stores colored images in BGR(Blue Green and Red) format.\n",
    "\n",
    "    All three types of flags are described below:\n",
    "\n",
    "    cv2.IMREAD_COLOR: It specifies to load a color image. Any transparency of image will be neglected. It is the default flag. Alternatively, we can pass integer value 1 for this flag.\n",
    "    \n",
    "    cv2.IMREAD_GRAYSCALE: It specifies to load an image in grayscale mode. Alternatively, we can pass integer value 0 for this flag.\n",
    "    \n",
    "    cv2.IMREAD_UNCHANGED: It specifies to load an image as such including alpha channel. Alternatively, we can pass integer value -1 for this flag.\n",
    "\n",
    "\n",
    "\n"
   ]
  },
  {
   "cell_type": "code",
   "execution_count": 2,
   "metadata": {},
   "outputs": [
    {
     "ename": "KeyboardInterrupt",
     "evalue": "",
     "output_type": "error",
     "traceback": [
      "\u001b[1;31m---------------------------------------------------------------------------\u001b[0m",
      "\u001b[1;31mKeyboardInterrupt\u001b[0m                         Traceback (most recent call last)",
      "Cell \u001b[1;32mIn[2], line 22\u001b[0m\n\u001b[0;32m     19\u001b[0m \t\tcv2\u001b[38;5;241m.\u001b[39mimshow(\u001b[38;5;124m'\u001b[39m\u001b[38;5;124mFrame\u001b[39m\u001b[38;5;124m'\u001b[39m, frame) \n\u001b[0;32m     21\u001b[0m \t\u001b[38;5;66;03m# Press Q on keyboard to exit \u001b[39;00m\n\u001b[1;32m---> 22\u001b[0m \t\t\u001b[38;5;28;01mif\u001b[39;00m \u001b[43mcv2\u001b[49m\u001b[38;5;241;43m.\u001b[39;49m\u001b[43mwaitKey\u001b[49m\u001b[43m(\u001b[49m\u001b[38;5;241;43m25\u001b[39;49m\u001b[43m)\u001b[49m \u001b[38;5;241m&\u001b[39m \u001b[38;5;241m0xFF\u001b[39m \u001b[38;5;241m==\u001b[39m \u001b[38;5;28mord\u001b[39m(\u001b[38;5;124m'\u001b[39m\u001b[38;5;124mq\u001b[39m\u001b[38;5;124m'\u001b[39m): \n\u001b[0;32m     23\u001b[0m \t\t\t\u001b[38;5;28;01mbreak\u001b[39;00m\n\u001b[0;32m     25\u001b[0m \u001b[38;5;66;03m# Break the loop \u001b[39;00m\n\u001b[0;32m     26\u001b[0m \t\u001b[38;5;28;01melse\u001b[39;00m: \n",
      "\u001b[1;31mKeyboardInterrupt\u001b[0m: "
     ]
    }
   ],
   "source": [
    "# importing libraries \n",
    "import cv2 \n",
    "import numpy as np \n",
    "\n",
    "# Create a VideoCapture object and read from input file \n",
    "cap = cv2.VideoCapture(r\"C:\\Users\\USER\\Downloads\\Hi Nanna (2023) Telugu HQ HDRip x264 - AAC - 700MB - ESub.mp4\") \n",
    "\n",
    "# Check if camera opened successfully \n",
    "if (cap.isOpened()== False): \n",
    "\tprint(\"Error opening video file\") \n",
    "\n",
    "# Read until video is completed \n",
    "while(cap.isOpened()): \n",
    "\t\n",
    "# Capture frame-by-frame \n",
    "\tret, frame = cap.read() \n",
    "\tif ret == True: \n",
    "\t# Display the resulting frame \n",
    "\t\tcv2.imshow('Frame', frame) \n",
    "\t\t\n",
    "\t# Press Q on keyboard to exit \n",
    "\t\tif cv2.waitKey(25) & 0xFF == ord('q'): \n",
    "\t\t\tbreak\n",
    "\n",
    "# Break the loop \n",
    "\telse: \n",
    "\t\tbreak\n",
    "\n",
    "# When everything done, release \n",
    "# the video capture object \n",
    "cap.release() \n",
    "\n",
    "# Closes all the frames \n",
    "cv2.destroyAllWindows() \n"
   ]
  },
  {
   "cell_type": "code",
   "execution_count": 3,
   "metadata": {},
   "outputs": [
    {
     "name": "stdout",
     "output_type": "stream",
     "text": [
      "video is still opened\n"
     ]
    }
   ],
   "source": [
    "if cap.isOpened():\n",
    "    print(f\"video is still opened\")\n",
    "    cap.release()\n",
    "\n",
    "    cv2.destroyAllWindows()\n",
    "else:\n",
    "    print('cap is not opened')\n",
    "    print('still trying to close if any opened')\n",
    "    cap.release()\n",
    "    cv2.destroyAllWindows()"
   ]
  },
  {
   "cell_type": "code",
   "execution_count": 5,
   "metadata": {},
   "outputs": [
    {
     "name": "stdout",
     "output_type": "stream",
     "text": [
      "Error opening video file\n"
     ]
    }
   ],
   "source": [
    "# importing libraries \n",
    "import cv2 \n",
    "import numpy as np \n",
    "\n",
    "\n",
    "# Create a VideoCapture object and read from input file \n",
    "cap = cv2.VideoCapture(\"AMBAR SE TODA Full Video Song (Hindi) [4K] _ RRR _ NTR,Ram Charan _ M M Keeravaani _ SS Rajamouli.mp4\") \n",
    "\n",
    "try:\n",
    "\t\n",
    "    # Check if camera opened successfully \n",
    "    if (cap.isOpened()== False): \n",
    "        print(\"Error opening video file\") \n",
    "\n",
    "    # Read until video is completed \n",
    "    while(cap.isOpened()): \n",
    "        \n",
    "    # Capture frame-by-frame \n",
    "        ret, frame = cap.read() \n",
    "        if ret == True: \n",
    "        # Display the resulting frame \n",
    "            cv2.imshow('Frame', frame) \n",
    "            \n",
    "        # Press Q on keyboard to exit \n",
    "            if cv2.waitKey(25) & 0xFF == ord('q'): \n",
    "                break\n",
    "\n",
    "    # Break the loop \n",
    "        else: \n",
    "            break\n",
    "\n",
    "    # When everything done, release \n",
    "    # the video capture object \n",
    "    cap.release() \n",
    "\n",
    "    # Closes all the frames \n",
    "    cv2.destroyAllWindows() \n",
    "except:\n",
    "    # the video capture object \n",
    "    cap.release() \n",
    "\n",
    "    # Closes all the frames \n",
    "    cv2.destroyAllWindows() "
   ]
  },
  {
   "cell_type": "code",
   "execution_count": null,
   "metadata": {},
   "outputs": [],
   "source": []
  }
 ],
 "metadata": {
  "kernelspec": {
   "display_name": "v_310",
   "language": "python",
   "name": "python3"
  },
  "language_info": {
   "codemirror_mode": {
    "name": "ipython",
    "version": 3
   },
   "file_extension": ".py",
   "mimetype": "text/x-python",
   "name": "python",
   "nbconvert_exporter": "python",
   "pygments_lexer": "ipython3",
   "version": "3.10.14"
  }
 },
 "nbformat": 4,
 "nbformat_minor": 2
}
