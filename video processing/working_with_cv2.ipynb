{
 "cells": [
  {
   "cell_type": "markdown",
   "metadata": {},
   "source": [
    "# Working with cv2 Module\n",
    "    The cv2 module is part of OpenCV (Open Source Computer Vision Library), which is a popular open-source library used for computer vision and image processing tasks. Here's a brief guide on how to work with the cv2 module and where to find its documentation"
   ]
  },
  {
   "cell_type": "markdown",
   "metadata": {},
   "source": [
    "### Getting Started with cv2\n",
    "\n",
    "#### Installation:\n",
    "    To install OpenCV, you can use pip:\n",
    "        pip install opencv-python\n",
    "\n",
    "#### Basic Usage:\n",
    "    Here are some basic examples to get you started.\n",
    "\n",
    "    Reading and Displaying an Image:\n",
    "\n",
    "        import cv2\n",
    "\n",
    "        # Read an image from file\n",
    "        image = cv2.imread('path/to/your/image.jpg')\n",
    "\n",
    "        # Display the image in a window\n",
    "        cv2.imshow('Image', image)\n",
    "\n",
    "        # Wait for a key press and close the window\n",
    "        cv2.waitKey(0)\n",
    "        cv2.destroyAllWindows()\n",
    "\n",
    "\n",
    "#### Converting an Image to Grayscale:\n",
    "\n",
    "        gray_image = cv2.cvtColor(image, cv2.COLOR_BGR2GRAY)\n",
    "        cv2.imshow('Grayscale Image', gray_image)\n",
    "        cv2.waitKey(0)\n",
    "        cv2.destroyAllWindows()\n",
    "\n",
    "\n",
    "#### Saving an Image:\n",
    "        cv2.imwrite('path/to/save/gray_image.jpg', gray_image)\n",
    "\n",
    "#### Video Capture from a Camera:"
   ]
  },
  {
   "cell_type": "code",
   "execution_count": 5,
   "metadata": {},
   "outputs": [],
   "source": [
    "import cv2\n",
    "\n",
    "img_path = 'page-0-images.png'\n",
    "\n",
    "image = cv2.imread(img_path)\n",
    "\n",
    "cv2.imshow('Image', image)\n",
    "\n",
    "cv2.waitKey(0)\n",
    "cv2.destroyAllWindows()"
   ]
  },
  {
   "cell_type": "code",
   "execution_count": 6,
   "metadata": {},
   "outputs": [],
   "source": [
    "gray_image = cv2.cvtColor(image, cv2.COLOR_BGR2GRAY)\n",
    "cv2.imshow('Grayscale Image', gray_image)\n",
    "cv2.waitKey(0)\n",
    "cv2.destroyAllWindows()"
   ]
  },
  {
   "cell_type": "code",
   "execution_count": 7,
   "metadata": {},
   "outputs": [
    {
     "data": {
      "text/plain": [
       "True"
      ]
     },
     "execution_count": 7,
     "metadata": {},
     "output_type": "execute_result"
    }
   ],
   "source": [
    "cv2.imwrite('cv2_image.jpg', image)"
   ]
  },
  {
   "cell_type": "markdown",
   "metadata": {},
   "source": [
    "#### Video Capture from a Camera:\n",
    "\n",
    "        cap = cv2.VideoCapture(0)  # 0 for the default camera\n",
    "\n",
    "        while True:\n",
    "            ret, frame = cap.read()\n",
    "            if not ret:\n",
    "                break\n",
    "\n",
    "            cv2.imshow('Video', frame)\n",
    "\n",
    "            if cv2.waitKey(1) & 0xFF == ord('q'):\n",
    "                break\n",
    "\n",
    "        cap.release()\n",
    "        cv2.destroyAllWindows()\n"
   ]
  },
  {
   "cell_type": "code",
   "execution_count": 10,
   "metadata": {},
   "outputs": [
    {
     "name": "stdout",
     "output_type": "stream",
     "text": [
      "< cv2.VideoCapture 000001EA959307D0>\n",
      "False None\n"
     ]
    }
   ],
   "source": [
    "cap = cv2.VideoCapture(0)  # 0 for the default camera\n",
    "\n",
    "print(cap)\n",
    "while True:\n",
    "    ret, frame = cap.read()\n",
    "    print(ret, frame)\n",
    "    if not ret:\n",
    "        break\n",
    "\n",
    "    cv2.imshow('Video', frame)\n",
    "\n",
    "    if cv2.waitKey(1) & 0xFF == ord('q'):\n",
    "        break\n",
    "\n",
    "cap.release()\n",
    "cv2.destroyAllWindows()\n"
   ]
  },
  {
   "cell_type": "code",
   "execution_count": null,
   "metadata": {},
   "outputs": [],
   "source": []
  }
 ],
 "metadata": {
  "kernelspec": {
   "display_name": "v_310",
   "language": "python",
   "name": "python3"
  },
  "language_info": {
   "codemirror_mode": {
    "name": "ipython",
    "version": 3
   },
   "file_extension": ".py",
   "mimetype": "text/x-python",
   "name": "python",
   "nbconvert_exporter": "python",
   "pygments_lexer": "ipython3",
   "version": "3.10.14"
  }
 },
 "nbformat": 4,
 "nbformat_minor": 2
}
